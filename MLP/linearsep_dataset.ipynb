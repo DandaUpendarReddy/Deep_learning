{
 "cells": [
  {
   "cell_type": "markdown",
   "id": "5f2e0bf1",
   "metadata": {},
   "source": [
    "#### Importing the Required Libraries"
   ]
  },
  {
   "cell_type": "code",
   "execution_count": 2,
   "id": "e34e3e96",
   "metadata": {},
   "outputs": [],
   "source": [
    "import pandas as pd\n",
    "import numpy as np\n",
    "import matplotlib.pyplot as plt\n",
    "import seaborn as sns"
   ]
  },
  {
   "cell_type": "markdown",
   "id": "f2bb72f2",
   "metadata": {},
   "source": [
    "##### Reading the Dataframe"
   ]
  },
  {
   "cell_type": "code",
   "execution_count": 3,
   "id": "fd7690b7",
   "metadata": {},
   "outputs": [
    {
     "data": {
      "text/html": [
       "<div>\n",
       "<style scoped>\n",
       "    .dataframe tbody tr th:only-of-type {\n",
       "        vertical-align: middle;\n",
       "    }\n",
       "\n",
       "    .dataframe tbody tr th {\n",
       "        vertical-align: top;\n",
       "    }\n",
       "\n",
       "    .dataframe thead th {\n",
       "        text-align: right;\n",
       "    }\n",
       "</style>\n",
       "<table border=\"1\" class=\"dataframe\">\n",
       "  <thead>\n",
       "    <tr style=\"text-align: right;\">\n",
       "      <th></th>\n",
       "      <th>0</th>\n",
       "      <th>1</th>\n",
       "      <th>2</th>\n",
       "    </tr>\n",
       "  </thead>\n",
       "  <tbody>\n",
       "    <tr>\n",
       "      <th>0</th>\n",
       "      <td>-0.177497</td>\n",
       "      <td>0.930496</td>\n",
       "      <td>1.0</td>\n",
       "    </tr>\n",
       "    <tr>\n",
       "      <th>1</th>\n",
       "      <td>1.977424</td>\n",
       "      <td>1.766155</td>\n",
       "      <td>0.0</td>\n",
       "    </tr>\n",
       "    <tr>\n",
       "      <th>2</th>\n",
       "      <td>1.800024</td>\n",
       "      <td>1.700343</td>\n",
       "      <td>0.0</td>\n",
       "    </tr>\n",
       "    <tr>\n",
       "      <th>3</th>\n",
       "      <td>-0.770837</td>\n",
       "      <td>2.359163</td>\n",
       "      <td>1.0</td>\n",
       "    </tr>\n",
       "    <tr>\n",
       "      <th>4</th>\n",
       "      <td>-0.308009</td>\n",
       "      <td>1.594063</td>\n",
       "      <td>1.0</td>\n",
       "    </tr>\n",
       "    <tr>\n",
       "      <th>...</th>\n",
       "      <td>...</td>\n",
       "      <td>...</td>\n",
       "      <td>...</td>\n",
       "    </tr>\n",
       "    <tr>\n",
       "      <th>95</th>\n",
       "      <td>2.632382</td>\n",
       "      <td>1.271305</td>\n",
       "      <td>0.0</td>\n",
       "    </tr>\n",
       "    <tr>\n",
       "      <th>96</th>\n",
       "      <td>-0.040256</td>\n",
       "      <td>1.782708</td>\n",
       "      <td>1.0</td>\n",
       "    </tr>\n",
       "    <tr>\n",
       "      <th>97</th>\n",
       "      <td>-0.787453</td>\n",
       "      <td>1.400357</td>\n",
       "      <td>1.0</td>\n",
       "    </tr>\n",
       "    <tr>\n",
       "      <th>98</th>\n",
       "      <td>2.702441</td>\n",
       "      <td>1.587444</td>\n",
       "      <td>0.0</td>\n",
       "    </tr>\n",
       "    <tr>\n",
       "      <th>99</th>\n",
       "      <td>1.290969</td>\n",
       "      <td>2.751937</td>\n",
       "      <td>1.0</td>\n",
       "    </tr>\n",
       "  </tbody>\n",
       "</table>\n",
       "<p>100 rows × 3 columns</p>\n",
       "</div>"
      ],
      "text/plain": [
       "           0         1    2\n",
       "0  -0.177497  0.930496  1.0\n",
       "1   1.977424  1.766155  0.0\n",
       "2   1.800024  1.700343  0.0\n",
       "3  -0.770837  2.359163  1.0\n",
       "4  -0.308009  1.594063  1.0\n",
       "..       ...       ...  ...\n",
       "95  2.632382  1.271305  0.0\n",
       "96 -0.040256  1.782708  1.0\n",
       "97 -0.787453  1.400357  1.0\n",
       "98  2.702441  1.587444  0.0\n",
       "99  1.290969  2.751937  1.0\n",
       "\n",
       "[100 rows x 3 columns]"
      ]
     },
     "execution_count": 3,
     "metadata": {},
     "output_type": "execute_result"
    }
   ],
   "source": [
    "df = pd.read_csv(r\"D:\\demo_data\\4.linearsep.csv\", header=None)\n",
    "df"
   ]
  },
  {
   "cell_type": "code",
   "execution_count": 4,
   "id": "da68e044",
   "metadata": {},
   "outputs": [
    {
     "data": {
      "text/html": [
       "<div>\n",
       "<style scoped>\n",
       "    .dataframe tbody tr th:only-of-type {\n",
       "        vertical-align: middle;\n",
       "    }\n",
       "\n",
       "    .dataframe tbody tr th {\n",
       "        vertical-align: top;\n",
       "    }\n",
       "\n",
       "    .dataframe thead th {\n",
       "        text-align: right;\n",
       "    }\n",
       "</style>\n",
       "<table border=\"1\" class=\"dataframe\">\n",
       "  <thead>\n",
       "    <tr style=\"text-align: right;\">\n",
       "      <th></th>\n",
       "      <th>0</th>\n",
       "      <th>1</th>\n",
       "    </tr>\n",
       "  </thead>\n",
       "  <tbody>\n",
       "    <tr>\n",
       "      <th>0</th>\n",
       "      <td>-0.177497</td>\n",
       "      <td>0.930496</td>\n",
       "    </tr>\n",
       "    <tr>\n",
       "      <th>1</th>\n",
       "      <td>1.977424</td>\n",
       "      <td>1.766155</td>\n",
       "    </tr>\n",
       "    <tr>\n",
       "      <th>2</th>\n",
       "      <td>1.800024</td>\n",
       "      <td>1.700343</td>\n",
       "    </tr>\n",
       "    <tr>\n",
       "      <th>3</th>\n",
       "      <td>-0.770837</td>\n",
       "      <td>2.359163</td>\n",
       "    </tr>\n",
       "    <tr>\n",
       "      <th>4</th>\n",
       "      <td>-0.308009</td>\n",
       "      <td>1.594063</td>\n",
       "    </tr>\n",
       "    <tr>\n",
       "      <th>...</th>\n",
       "      <td>...</td>\n",
       "      <td>...</td>\n",
       "    </tr>\n",
       "    <tr>\n",
       "      <th>95</th>\n",
       "      <td>2.632382</td>\n",
       "      <td>1.271305</td>\n",
       "    </tr>\n",
       "    <tr>\n",
       "      <th>96</th>\n",
       "      <td>-0.040256</td>\n",
       "      <td>1.782708</td>\n",
       "    </tr>\n",
       "    <tr>\n",
       "      <th>97</th>\n",
       "      <td>-0.787453</td>\n",
       "      <td>1.400357</td>\n",
       "    </tr>\n",
       "    <tr>\n",
       "      <th>98</th>\n",
       "      <td>2.702441</td>\n",
       "      <td>1.587444</td>\n",
       "    </tr>\n",
       "    <tr>\n",
       "      <th>99</th>\n",
       "      <td>1.290969</td>\n",
       "      <td>2.751937</td>\n",
       "    </tr>\n",
       "  </tbody>\n",
       "</table>\n",
       "<p>100 rows × 2 columns</p>\n",
       "</div>"
      ],
      "text/plain": [
       "           0         1\n",
       "0  -0.177497  0.930496\n",
       "1   1.977424  1.766155\n",
       "2   1.800024  1.700343\n",
       "3  -0.770837  2.359163\n",
       "4  -0.308009  1.594063\n",
       "..       ...       ...\n",
       "95  2.632382  1.271305\n",
       "96 -0.040256  1.782708\n",
       "97 -0.787453  1.400357\n",
       "98  2.702441  1.587444\n",
       "99  1.290969  2.751937\n",
       "\n",
       "[100 rows x 2 columns]"
      ]
     },
     "execution_count": 4,
     "metadata": {},
     "output_type": "execute_result"
    }
   ],
   "source": [
    "df[[0,1]]"
   ]
  },
  {
   "cell_type": "code",
   "execution_count": 5,
   "id": "3ef403a1",
   "metadata": {},
   "outputs": [
    {
     "data": {
      "text/plain": [
       "<AxesSubplot:xlabel='0', ylabel='1'>"
      ]
     },
     "execution_count": 5,
     "metadata": {},
     "output_type": "execute_result"
    },
    {
     "data": {
      "image/png": "[encoded data removed]",
      "text/plain": [
       "<Figure size 432x288 with 1 Axes>"
      ]
     },
     "metadata": {
      "needs_background": "light"
     },
     "output_type": "display_data"
    }
   ],
   "source": [
    "sns.scatterplot(x=df[0],y=df[1],hue=df[2],data=df)"
   ]
  },
  {
   "cell_type": "markdown",
   "id": "14615d7e",
   "metadata": {},
   "source": [
    "#### splitting the data into train and test and strandarization of it"
   ]
  },
  {
   "cell_type": "code",
   "execution_count": 6,
   "id": "a3a67f69",
   "metadata": {},
   "outputs": [],
   "source": [
    "from sklearn.model_selection import train_test_split\n",
    "x_train,x_test,y_train,y_test = train_test_split(df[[0,1]],df[2],test_size=0.1)"
   ]
  },
  {
   "cell_type": "code",
   "execution_count": 7,
   "id": "9a7530aa",
   "metadata": {},
   "outputs": [],
   "source": [
    "from sklearn.preprocessing import StandardScaler\n",
    "std = StandardScaler()"
   ]
  },
  {
   "cell_type": "code",
   "execution_count": 8,
   "id": "c845c4b8",
   "metadata": {},
   "outputs": [],
   "source": [
    "x_train = std.fit_transform(x_train)\n",
    "x_test = std.transform(x_test)"
   ]
  },
  {
   "cell_type": "markdown",
   "id": "1bc1c6a7",
   "metadata": {},
   "source": [
    "#### Building MLP"
   ]
  },
  {
   "cell_type": "code",
   "execution_count": 9,
   "id": "20e0c2e1",
   "metadata": {},
   "outputs": [],
   "source": [
    "# Implement Neural Networks for classification task and decision boundary\n",
    "import tensorflow\n",
    "import tensorflow.keras\n",
    "from tensorflow.keras import Sequential\n",
    "from tensorflow.keras.layers import Dense, Dropout"
   ]
  },
  {
   "cell_type": "code",
   "execution_count": 10,
   "id": "cd35ac6c",
   "metadata": {},
   "outputs": [],
   "source": [
    "model = Sequential()\n",
    "model.add(Dense(12,activation='relu', input_dim = 2))\n",
    "model.add(Dense(10,activation='relu'))\n",
    "model.add(Dense(8,activation='relu'))\n",
    "model.add(Dense(6,activation='relu'))\n",
    "model.add(Dense(5,activation='relu'))\n",
    "model.add(Dense(4,activation='relu'))\n",
    "model.add(Dense(3,activation='relu'))\n",
    "model.add(Dense(2,activation='relu'))\n",
    "model.add(Dense(1,activation='sigmoid'))"
   ]
  },
  {
   "cell_type": "code",
   "execution_count": 12,
   "id": "25832ab4",
   "metadata": {},
   "outputs": [],
   "source": [
    "model.compile(optimizer=\"Adam\",loss=\"binary_crossentropy\",metrics=[\"accuracy\"])"
   ]
  },
  {
   "cell_type": "markdown",
   "id": "e732ec4b",
   "metadata": {},
   "source": [
    "#### Training the Model"
   ]
  },
  {
   "cell_type": "code",
   "execution_count": 14,
   "id": "d53fe4d5",
   "metadata": {},
   "outputs": [
    {
     "name": "stdout",
     "output_type": "stream",
     "text": [
      "Epoch 1/80\n",
      "3/3 [==============================] - 2s 113ms/step - loss: 0.6932 - accuracy: 0.4722 - val_loss: 0.6927 - val_accuracy: 0.6111\n",
      "Epoch 2/80\n",
      "3/3 [==============================] - 0s 18ms/step - loss: 0.6929 - accuracy: 0.5833 - val_loss: 0.6925 - val_accuracy: 0.7222\n",
      "Epoch 3/80\n",
      "3/3 [==============================] - 0s 21ms/step - loss: 0.6927 - accuracy: 0.6528 - val_loss: 0.6925 - val_accuracy: 0.7778\n",
      "Epoch 4/80\n",
      "3/3 [==============================] - 0s 17ms/step - loss: 0.6925 - accuracy: 0.7639 - val_loss: 0.6926 - val_accuracy: 0.6667\n",
      "Epoch 5/80\n",
      "3/3 [==============================] - 0s 19ms/step - loss: 0.6923 - accuracy: 0.7778 - val_loss: 0.6925 - val_accuracy: 0.6667\n",
      "Epoch 6/80\n",
      "3/3 [==============================] - 0s 16ms/step - loss: 0.6919 - accuracy: 0.7639 - val_loss: 0.6921 - val_accuracy: 0.6667\n",
      "Epoch 7/80\n",
      "3/3 [==============================] - 0s 16ms/step - loss: 0.6915 - accuracy: 0.8472 - val_loss: 0.6916 - val_accuracy: 0.7778\n",
      "Epoch 8/80\n",
      "3/3 [==============================] - 0s 21ms/step - loss: 0.6911 - accuracy: 0.8750 - val_loss: 0.6911 - val_accuracy: 0.8889\n",
      "Epoch 9/80\n",
      "3/3 [==============================] - 0s 19ms/step - loss: 0.6905 - accuracy: 0.9167 - val_loss: 0.6906 - val_accuracy: 0.9444\n",
      "Epoch 10/80\n",
      "3/3 [==============================] - 0s 18ms/step - loss: 0.6901 - accuracy: 0.9444 - val_loss: 0.6902 - val_accuracy: 0.9444\n",
      "Epoch 11/80\n",
      "3/3 [==============================] - 0s 18ms/step - loss: 0.6895 - accuracy: 0.9306 - val_loss: 0.6896 - val_accuracy: 0.9444\n",
      "Epoch 12/80\n",
      "3/3 [==============================] - 0s 19ms/step - loss: 0.6889 - accuracy: 0.9444 - val_loss: 0.6890 - val_accuracy: 0.9444\n",
      "Epoch 13/80\n",
      "3/3 [==============================] - 0s 18ms/step - loss: 0.6883 - accuracy: 0.9583 - val_loss: 0.6884 - val_accuracy: 0.8889\n",
      "Epoch 14/80\n",
      "3/3 [==============================] - 0s 18ms/step - loss: 0.6875 - accuracy: 0.9583 - val_loss: 0.6877 - val_accuracy: 0.7778\n",
      "Epoch 15/80\n",
      "3/3 [==============================] - 0s 18ms/step - loss: 0.6865 - accuracy: 0.9583 - val_loss: 0.6868 - val_accuracy: 0.7778\n",
      "Epoch 16/80\n",
      "3/3 [==============================] - 0s 18ms/step - loss: 0.6853 - accuracy: 0.9722 - val_loss: 0.6860 - val_accuracy: 0.7778\n",
      "Epoch 17/80\n",
      "3/3 [==============================] - 0s 18ms/step - loss: 0.6840 - accuracy: 0.9583 - val_loss: 0.6849 - val_accuracy: 0.7778\n",
      "Epoch 18/80\n",
      "3/3 [==============================] - 0s 19ms/step - loss: 0.6828 - accuracy: 0.9444 - val_loss: 0.6842 - val_accuracy: 0.7778\n",
      "Epoch 19/80\n",
      "3/3 [==============================] - 0s 17ms/step - loss: 0.6818 - accuracy: 0.9583 - val_loss: 0.6835 - val_accuracy: 0.7778\n",
      "Epoch 20/80\n",
      "3/3 [==============================] - 0s 17ms/step - loss: 0.6805 - accuracy: 0.9583 - val_loss: 0.6826 - val_accuracy: 0.7778\n",
      "Epoch 21/80\n",
      "3/3 [==============================] - 0s 18ms/step - loss: 0.6791 - accuracy: 0.9583 - val_loss: 0.6813 - val_accuracy: 0.7778\n",
      "Epoch 22/80\n",
      "3/3 [==============================] - 0s 17ms/step - loss: 0.6775 - accuracy: 0.9583 - val_loss: 0.6798 - val_accuracy: 0.7778\n",
      "Epoch 23/80\n",
      "3/3 [==============================] - 0s 18ms/step - loss: 0.6761 - accuracy: 0.9583 - val_loss: 0.6781 - val_accuracy: 0.7778\n",
      "Epoch 24/80\n",
      "3/3 [==============================] - 0s 17ms/step - loss: 0.6745 - accuracy: 0.9722 - val_loss: 0.6761 - val_accuracy: 0.7778\n",
      "Epoch 25/80\n",
      "3/3 [==============================] - 0s 18ms/step - loss: 0.6726 - accuracy: 0.9722 - val_loss: 0.6743 - val_accuracy: 0.8333\n",
      "Epoch 26/80\n",
      "3/3 [==============================] - 0s 16ms/step - loss: 0.6705 - accuracy: 0.9583 - val_loss: 0.6719 - val_accuracy: 0.8889\n",
      "Epoch 27/80\n",
      "3/3 [==============================] - 0s 19ms/step - loss: 0.6684 - accuracy: 0.9583 - val_loss: 0.6695 - val_accuracy: 0.8889\n",
      "Epoch 28/80\n",
      "3/3 [==============================] - 0s 22ms/step - loss: 0.6657 - accuracy: 0.9583 - val_loss: 0.6671 - val_accuracy: 0.8889\n",
      "Epoch 29/80\n",
      "3/3 [==============================] - 0s 20ms/step - loss: 0.6631 - accuracy: 0.9583 - val_loss: 0.6644 - val_accuracy: 0.8889\n",
      "Epoch 30/80\n",
      "3/3 [==============================] - 0s 18ms/step - loss: 0.6603 - accuracy: 0.9583 - val_loss: 0.6613 - val_accuracy: 0.8889\n",
      "Epoch 31/80\n",
      "3/3 [==============================] - 0s 18ms/step - loss: 0.6571 - accuracy: 0.9583 - val_loss: 0.6570 - val_accuracy: 0.8889\n",
      "Epoch 32/80\n",
      "3/3 [==============================] - 0s 18ms/step - loss: 0.6533 - accuracy: 0.9583 - val_loss: 0.6525 - val_accuracy: 0.8889\n",
      "Epoch 33/80\n",
      "3/3 [==============================] - 0s 19ms/step - loss: 0.6493 - accuracy: 0.9583 - val_loss: 0.6477 - val_accuracy: 0.8889\n",
      "Epoch 34/80\n",
      "3/3 [==============================] - 0s 17ms/step - loss: 0.6448 - accuracy: 0.9722 - val_loss: 0.6416 - val_accuracy: 0.8889\n",
      "Epoch 35/80\n",
      "3/3 [==============================] - 0s 18ms/step - loss: 0.6397 - accuracy: 0.9722 - val_loss: 0.6349 - val_accuracy: 0.8889\n",
      "Epoch 36/80\n",
      "3/3 [==============================] - 0s 20ms/step - loss: 0.6339 - accuracy: 0.9722 - val_loss: 0.6290 - val_accuracy: 0.8889\n",
      "Epoch 37/80\n",
      "3/3 [==============================] - 0s 21ms/step - loss: 0.6281 - accuracy: 0.9861 - val_loss: 0.6226 - val_accuracy: 0.8889\n",
      "Epoch 38/80\n",
      "3/3 [==============================] - 0s 18ms/step - loss: 0.6215 - accuracy: 0.9861 - val_loss: 0.6155 - val_accuracy: 0.8889\n",
      "Epoch 39/80\n",
      "3/3 [==============================] - 0s 19ms/step - loss: 0.6145 - accuracy: 0.9861 - val_loss: 0.6073 - val_accuracy: 0.8889\n",
      "Epoch 40/80\n",
      "3/3 [==============================] - 0s 19ms/step - loss: 0.6071 - accuracy: 0.9444 - val_loss: 0.5978 - val_accuracy: 0.8889\n",
      "Epoch 41/80\n",
      "3/3 [==============================] - 0s 19ms/step - loss: 0.5990 - accuracy: 0.9444 - val_loss: 0.5875 - val_accuracy: 0.8889\n",
      "Epoch 42/80\n",
      "3/3 [==============================] - 0s 19ms/step - loss: 0.5907 - accuracy: 0.9583 - val_loss: 0.5783 - val_accuracy: 0.8889\n",
      "Epoch 43/80\n",
      "3/3 [==============================] - 0s 20ms/step - loss: 0.5820 - accuracy: 0.9444 - val_loss: 0.5692 - val_accuracy: 0.8889\n",
      "Epoch 44/80\n",
      "3/3 [==============================] - 0s 20ms/step - loss: 0.5731 - accuracy: 0.9444 - val_loss: 0.5582 - val_accuracy: 0.8889\n",
      "Epoch 45/80\n",
      "3/3 [==============================] - 0s 20ms/step - loss: 0.5633 - accuracy: 0.9583 - val_loss: 0.5461 - val_accuracy: 0.8889\n",
      "Epoch 46/80\n",
      "3/3 [==============================] - 0s 19ms/step - loss: 0.5531 - accuracy: 0.9722 - val_loss: 0.5337 - val_accuracy: 0.8889\n",
      "Epoch 47/80\n",
      "3/3 [==============================] - 0s 20ms/step - loss: 0.5433 - accuracy: 0.9722 - val_loss: 0.5222 - val_accuracy: 0.8889\n",
      "Epoch 48/80\n",
      "3/3 [==============================] - 0s 21ms/step - loss: 0.5333 - accuracy: 0.9722 - val_loss: 0.5116 - val_accuracy: 0.8889\n",
      "Epoch 49/80\n",
      "3/3 [==============================] - 0s 19ms/step - loss: 0.5230 - accuracy: 0.9722 - val_loss: 0.5013 - val_accuracy: 0.8889\n",
      "Epoch 50/80\n",
      "3/3 [==============================] - 0s 19ms/step - loss: 0.5127 - accuracy: 0.9722 - val_loss: 0.4906 - val_accuracy: 0.8889\n",
      "Epoch 51/80\n",
      "3/3 [==============================] - 0s 20ms/step - loss: 0.5024 - accuracy: 0.9722 - val_loss: 0.4800 - val_accuracy: 0.9444\n",
      "Epoch 52/80\n",
      "3/3 [==============================] - 0s 19ms/step - loss: 0.4934 - accuracy: 0.9722 - val_loss: 0.4691 - val_accuracy: 0.9444\n",
      "Epoch 53/80\n",
      "3/3 [==============================] - 0s 17ms/step - loss: 0.4842 - accuracy: 0.9583 - val_loss: 0.4591 - val_accuracy: 0.9444\n",
      "Epoch 54/80\n",
      "3/3 [==============================] - 0s 17ms/step - loss: 0.4751 - accuracy: 0.9444 - val_loss: 0.4520 - val_accuracy: 0.9444\n",
      "Epoch 55/80\n",
      "3/3 [==============================] - 0s 19ms/step - loss: 0.4661 - accuracy: 0.9722 - val_loss: 0.4451 - val_accuracy: 0.8889\n",
      "Epoch 56/80\n",
      "3/3 [==============================] - 0s 22ms/step - loss: 0.4588 - accuracy: 0.9722 - val_loss: 0.4380 - val_accuracy: 0.8889\n",
      "Epoch 57/80\n",
      "3/3 [==============================] - 0s 24ms/step - loss: 0.4515 - accuracy: 0.9583 - val_loss: 0.4322 - val_accuracy: 0.8889\n",
      "Epoch 58/80\n",
      "3/3 [==============================] - 0s 24ms/step - loss: 0.4449 - accuracy: 0.9583 - val_loss: 0.4270 - val_accuracy: 0.8889\n",
      "Epoch 59/80\n",
      "3/3 [==============================] - 0s 23ms/step - loss: 0.4387 - accuracy: 0.9583 - val_loss: 0.4221 - val_accuracy: 0.9444\n",
      "Epoch 60/80\n",
      "3/3 [==============================] - 0s 24ms/step - loss: 0.4335 - accuracy: 0.9722 - val_loss: 0.4185 - val_accuracy: 0.9444\n",
      "Epoch 61/80\n",
      "3/3 [==============================] - 0s 21ms/step - loss: 0.4287 - accuracy: 0.9722 - val_loss: 0.4157 - val_accuracy: 0.8889\n",
      "Epoch 62/80\n",
      "3/3 [==============================] - 0s 16ms/step - loss: 0.4238 - accuracy: 0.9583 - val_loss: 0.4146 - val_accuracy: 0.8889\n",
      "Epoch 63/80\n",
      "3/3 [==============================] - 0s 16ms/step - loss: 0.4203 - accuracy: 0.9583 - val_loss: 0.4127 - val_accuracy: 0.8889\n",
      "Epoch 64/80\n",
      "3/3 [==============================] - 0s 17ms/step - loss: 0.4163 - accuracy: 0.9583 - val_loss: 0.4106 - val_accuracy: 0.8889\n",
      "Epoch 65/80\n",
      "3/3 [==============================] - 0s 16ms/step - loss: 0.4127 - accuracy: 0.9583 - val_loss: 0.4102 - val_accuracy: 0.8889\n",
      "Epoch 66/80\n",
      "3/3 [==============================] - 0s 16ms/step - loss: 0.4098 - accuracy: 0.9583 - val_loss: 0.4094 - val_accuracy: 0.8889\n",
      "Epoch 67/80\n",
      "3/3 [==============================] - 0s 19ms/step - loss: 0.4069 - accuracy: 0.9722 - val_loss: 0.4089 - val_accuracy: 0.8889\n",
      "Epoch 68/80\n",
      "3/3 [==============================] - 0s 19ms/step - loss: 0.4049 - accuracy: 0.9722 - val_loss: 0.4080 - val_accuracy: 0.8889\n",
      "Epoch 69/80\n",
      "3/3 [==============================] - 0s 20ms/step - loss: 0.4025 - accuracy: 0.9583 - val_loss: 0.4070 - val_accuracy: 0.8889\n",
      "Epoch 70/80\n",
      "3/3 [==============================] - 0s 18ms/step - loss: 0.4000 - accuracy: 0.9583 - val_loss: 0.4056 - val_accuracy: 0.8889\n",
      "Epoch 71/80\n",
      "3/3 [==============================] - 0s 18ms/step - loss: 0.3979 - accuracy: 0.9722 - val_loss: 0.4046 - val_accuracy: 0.8889\n",
      "Epoch 72/80\n",
      "3/3 [==============================] - 0s 24ms/step - loss: 0.3956 - accuracy: 0.9583 - val_loss: 0.4036 - val_accuracy: 0.8889\n",
      "Epoch 73/80\n",
      "3/3 [==============================] - 0s 20ms/step - loss: 0.3930 - accuracy: 0.9583 - val_loss: 0.4028 - val_accuracy: 0.8889\n",
      "Epoch 74/80\n",
      "3/3 [==============================] - 0s 20ms/step - loss: 0.3908 - accuracy: 0.9722 - val_loss: 0.4023 - val_accuracy: 0.8889\n",
      "Epoch 75/80\n",
      "3/3 [==============================] - 0s 18ms/step - loss: 0.3888 - accuracy: 0.9722 - val_loss: 0.4018 - val_accuracy: 0.8889\n",
      "Epoch 76/80\n",
      "3/3 [==============================] - 0s 20ms/step - loss: 0.3867 - accuracy: 0.9722 - val_loss: 0.4023 - val_accuracy: 0.8889\n",
      "Epoch 77/80\n",
      "3/3 [==============================] - 0s 20ms/step - loss: 0.3861 - accuracy: 0.9583 - val_loss: 0.4028 - val_accuracy: 0.8889\n",
      "Epoch 78/80\n",
      "3/3 [==============================] - 0s 18ms/step - loss: 0.3841 - accuracy: 0.9583 - val_loss: 0.4022 - val_accuracy: 0.8889\n",
      "Epoch 79/80\n",
      "3/3 [==============================] - 0s 18ms/step - loss: 0.3819 - accuracy: 0.9722 - val_loss: 0.4029 - val_accuracy: 0.8889\n",
      "Epoch 80/80\n",
      "3/3 [==============================] - 0s 17ms/step - loss: 0.3808 - accuracy: 0.9722 - val_loss: 0.4035 - val_accuracy: 0.8889\n"
     ]
    }
   ],
   "source": [
    "save = model.fit(x_train, y_train, epochs = 80, validation_split= 0.2)"
   ]
  },
  {
   "cell_type": "code",
   "execution_count": 16,
   "id": "b12caa19",
   "metadata": {},
   "outputs": [
    {
     "data": {
      "text/plain": [
       "dict_keys(['loss', 'accuracy', 'val_loss', 'val_accuracy'])"
      ]
     },
     "execution_count": 16,
     "metadata": {},
     "output_type": "execute_result"
    }
   ],
   "source": [
    "save.history.keys()"
   ]
  },
  {
   "cell_type": "code",
   "execution_count": 15,
   "id": "d009f3e1",
   "metadata": {},
   "outputs": [
    {
     "data": {
      "image/png": "[encoded data removed]",
      "text/plain": [
       "<Figure size 864x504 with 1 Axes>"
      ]
     },
     "metadata": {
      "needs_background": "light"
     },
     "output_type": "display_data"
    }
   ],
   "source": [
    "# history.history['loss'], history.history['val_loss'] \n",
    "plt.figure(figsize=(12, 7))\n",
    "plt.plot(save.history['loss'])\n",
    "plt.plot(save.history['val_loss'])\n",
    "plt.title(\"(Loss VS Val_loss Score)\")\n",
    "plt.xlabel(\"Epochs\")\n",
    "plt.ylabel(\"Loss\")\n",
    "plt.show()"
   ]
  },
  {
   "cell_type": "code",
   "execution_count": 17,
   "id": "9fd3a604",
   "metadata": {},
   "outputs": [
    {
     "name": "stdout",
     "output_type": "stream",
     "text": [
      "1/1 [==============================] - 0s 111ms/step\n"
     ]
    }
   ],
   "source": [
    "y_pred=model.predict(x_test)"
   ]
  },
  {
   "cell_type": "code",
   "execution_count": 18,
   "id": "d862f5d0",
   "metadata": {},
   "outputs": [],
   "source": [
    "y_capf=np.where(y_pred>0.5,1,0)\n"
   ]
  },
  {
   "cell_type": "code",
   "execution_count": 19,
   "id": "ba0c0ed2",
   "metadata": {},
   "outputs": [
    {
     "data": {
      "text/plain": [
       "1.0"
      ]
     },
     "execution_count": 19,
     "metadata": {},
     "output_type": "execute_result"
    }
   ],
   "source": [
    "from sklearn.metrics import accuracy_score\n",
    "accuracy_score(y_test,y_capf)"
   ]
  },
  {
   "cell_type": "code",
   "execution_count": 21,
   "id": "deb93beb",
   "metadata": {},
   "outputs": [
    {
     "name": "stdout",
     "output_type": "stream",
     "text": [
      "3888/3888 [==============================] - 5s 1ms/step\n"
     ]
    },
    {
     "data": {
      "text/plain": [
       "<AxesSubplot:>"
      ]
     },
     "execution_count": 21,
     "metadata": {},
     "output_type": "execute_result"
    },
    {
     "data": {
      "image/png": "[encoded data removed]",
      "text/plain": [
       "<Figure size 432x288 with 1 Axes>"
      ]
     },
     "metadata": {
      "needs_background": "light"
     },
     "output_type": "display_data"
    }
   ],
   "source": [
    "from mlxtend.plotting import plot_decision_regions\n",
    "\n",
    "plot_decision_regions(df[[0,1]].values,df[2].values.astype(int),clf=model)"
   ]
  },
  {
   "cell_type": "code",
   "execution_count": 22,
   "id": "6e244fc6",
   "metadata": {},
   "outputs": [
    {
     "name": "stdout",
     "output_type": "stream",
     "text": [
      "3888/3888 [==============================] - 4s 1ms/step\n"
     ]
    },
    {
     "data": {
      "image/png": "[encoded data removed]",
      "text/plain": [
       "<Figure size 432x288 with 1 Axes>"
      ]
     },
     "metadata": {
      "needs_background": "light"
     },
     "output_type": "display_data"
    }
   ],
   "source": [
    "plot_decision_regions(x_test, y_test.values.astype(int), clf = model);"
   ]
  }
 ],
 "metadata": {
  "kernelspec": {
   "display_name": "Python 3 (ipykernel)",
   "language": "python",
   "name": "python3"
  },
  "language_info": {
   "codemirror_mode": {
    "name": "ipython",
    "version": 3
   },
   "file_extension": ".py",
   "mimetype": "text/x-python",
   "name": "python",
   "nbconvert_exporter": "python",
   "pygments_lexer": "ipython3",
   "version": "3.9.12"
  }
 },
 "nbformat": 4,
 "nbformat_minor": 5
}
