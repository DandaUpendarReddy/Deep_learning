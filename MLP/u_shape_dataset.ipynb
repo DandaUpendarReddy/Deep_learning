{
 "cells": [
  {
   "cell_type": "markdown",
   "id": "b81c2d7e",
   "metadata": {},
   "source": [
    "#### importing the Required libraries"
   ]
  },
  {
   "cell_type": "code",
   "execution_count": 1,
   "id": "4ae1b039",
   "metadata": {},
   "outputs": [],
   "source": [
    "import pandas as pd\n",
    "import numpy as np\n",
    "import matplotlib.pyplot as plt\n",
    "import seaborn as sns"
   ]
  },
  {
   "cell_type": "markdown",
   "id": "4c467476",
   "metadata": {},
   "source": [
    "#### Reading the Dataframe"
   ]
  },
  {
   "cell_type": "code",
   "execution_count": 2,
   "id": "4bd5971d",
   "metadata": {},
   "outputs": [],
   "source": [
    "data=pd.read_csv(r\"D:\\demo_data\\1.ushape.csv\",header=None)"
   ]
  },
  {
   "cell_type": "code",
   "execution_count": 3,
   "id": "4a83c482",
   "metadata": {},
   "outputs": [
    {
     "data": {
      "text/html": [
       "<div>\n",
       "<style scoped>\n",
       "    .dataframe tbody tr th:only-of-type {\n",
       "        vertical-align: middle;\n",
       "    }\n",
       "\n",
       "    .dataframe tbody tr th {\n",
       "        vertical-align: top;\n",
       "    }\n",
       "\n",
       "    .dataframe thead th {\n",
       "        text-align: right;\n",
       "    }\n",
       "</style>\n",
       "<table border=\"1\" class=\"dataframe\">\n",
       "  <thead>\n",
       "    <tr style=\"text-align: right;\">\n",
       "      <th></th>\n",
       "      <th>0</th>\n",
       "      <th>1</th>\n",
       "      <th>2</th>\n",
       "    </tr>\n",
       "  </thead>\n",
       "  <tbody>\n",
       "    <tr>\n",
       "      <th>0</th>\n",
       "      <td>0.031595</td>\n",
       "      <td>0.986988</td>\n",
       "      <td>0.0</td>\n",
       "    </tr>\n",
       "    <tr>\n",
       "      <th>1</th>\n",
       "      <td>2.115098</td>\n",
       "      <td>-0.046244</td>\n",
       "      <td>1.0</td>\n",
       "    </tr>\n",
       "    <tr>\n",
       "      <th>2</th>\n",
       "      <td>0.882490</td>\n",
       "      <td>-0.075756</td>\n",
       "      <td>0.0</td>\n",
       "    </tr>\n",
       "    <tr>\n",
       "      <th>3</th>\n",
       "      <td>-0.055144</td>\n",
       "      <td>-0.037332</td>\n",
       "      <td>1.0</td>\n",
       "    </tr>\n",
       "    <tr>\n",
       "      <th>4</th>\n",
       "      <td>0.829545</td>\n",
       "      <td>-0.539321</td>\n",
       "      <td>1.0</td>\n",
       "    </tr>\n",
       "  </tbody>\n",
       "</table>\n",
       "</div>"
      ],
      "text/plain": [
       "          0         1    2\n",
       "0  0.031595  0.986988  0.0\n",
       "1  2.115098 -0.046244  1.0\n",
       "2  0.882490 -0.075756  0.0\n",
       "3 -0.055144 -0.037332  1.0\n",
       "4  0.829545 -0.539321  1.0"
      ]
     },
     "execution_count": 3,
     "metadata": {},
     "output_type": "execute_result"
    }
   ],
   "source": [
    "data.head()"
   ]
  },
  {
   "cell_type": "code",
   "execution_count": 4,
   "id": "20cfa0b8",
   "metadata": {},
   "outputs": [
    {
     "data": {
      "text/html": [
       "<div>\n",
       "<style scoped>\n",
       "    .dataframe tbody tr th:only-of-type {\n",
       "        vertical-align: middle;\n",
       "    }\n",
       "\n",
       "    .dataframe tbody tr th {\n",
       "        vertical-align: top;\n",
       "    }\n",
       "\n",
       "    .dataframe thead th {\n",
       "        text-align: right;\n",
       "    }\n",
       "</style>\n",
       "<table border=\"1\" class=\"dataframe\">\n",
       "  <thead>\n",
       "    <tr style=\"text-align: right;\">\n",
       "      <th></th>\n",
       "      <th>0</th>\n",
       "      <th>1</th>\n",
       "    </tr>\n",
       "  </thead>\n",
       "  <tbody>\n",
       "    <tr>\n",
       "      <th>0</th>\n",
       "      <td>0.031595</td>\n",
       "      <td>0.986988</td>\n",
       "    </tr>\n",
       "    <tr>\n",
       "      <th>1</th>\n",
       "      <td>2.115098</td>\n",
       "      <td>-0.046244</td>\n",
       "    </tr>\n",
       "    <tr>\n",
       "      <th>2</th>\n",
       "      <td>0.882490</td>\n",
       "      <td>-0.075756</td>\n",
       "    </tr>\n",
       "    <tr>\n",
       "      <th>3</th>\n",
       "      <td>-0.055144</td>\n",
       "      <td>-0.037332</td>\n",
       "    </tr>\n",
       "    <tr>\n",
       "      <th>4</th>\n",
       "      <td>0.829545</td>\n",
       "      <td>-0.539321</td>\n",
       "    </tr>\n",
       "    <tr>\n",
       "      <th>...</th>\n",
       "      <td>...</td>\n",
       "      <td>...</td>\n",
       "    </tr>\n",
       "    <tr>\n",
       "      <th>95</th>\n",
       "      <td>1.699453</td>\n",
       "      <td>0.587720</td>\n",
       "    </tr>\n",
       "    <tr>\n",
       "      <th>96</th>\n",
       "      <td>0.218623</td>\n",
       "      <td>-0.652521</td>\n",
       "    </tr>\n",
       "    <tr>\n",
       "      <th>97</th>\n",
       "      <td>0.952914</td>\n",
       "      <td>-0.419766</td>\n",
       "    </tr>\n",
       "    <tr>\n",
       "      <th>98</th>\n",
       "      <td>-1.318500</td>\n",
       "      <td>0.423112</td>\n",
       "    </tr>\n",
       "    <tr>\n",
       "      <th>99</th>\n",
       "      <td>-1.296818</td>\n",
       "      <td>0.184147</td>\n",
       "    </tr>\n",
       "  </tbody>\n",
       "</table>\n",
       "<p>100 rows × 2 columns</p>\n",
       "</div>"
      ],
      "text/plain": [
       "           0         1\n",
       "0   0.031595  0.986988\n",
       "1   2.115098 -0.046244\n",
       "2   0.882490 -0.075756\n",
       "3  -0.055144 -0.037332\n",
       "4   0.829545 -0.539321\n",
       "..       ...       ...\n",
       "95  1.699453  0.587720\n",
       "96  0.218623 -0.652521\n",
       "97  0.952914 -0.419766\n",
       "98 -1.318500  0.423112\n",
       "99 -1.296818  0.184147\n",
       "\n",
       "[100 rows x 2 columns]"
      ]
     },
     "execution_count": 4,
     "metadata": {},
     "output_type": "execute_result"
    }
   ],
   "source": [
    "data[[0,1]]"
   ]
  },
  {
   "cell_type": "code",
   "execution_count": 5,
   "id": "c177e35e",
   "metadata": {},
   "outputs": [
    {
     "name": "stderr",
     "output_type": "stream",
     "text": [
      "C:\\Users\\Dell\\anaconda3\\lib\\site-packages\\seaborn\\_decorators.py:36: FutureWarning: Pass the following variables as keyword args: x, y. From version 0.12, the only valid positional argument will be `data`, and passing other arguments without an explicit keyword will result in an error or misinterpretation.\n",
      "  warnings.warn(\n"
     ]
    },
    {
     "data": {
      "text/plain": [
       "<AxesSubplot:xlabel='0', ylabel='1'>"
      ]
     },
     "execution_count": 5,
     "metadata": {},
     "output_type": "execute_result"
    },
    {
     "data": {
      "image/png": "[encoded data removed]",
      "text/plain": [
       "<Figure size 432x288 with 1 Axes>"
      ]
     },
     "metadata": {
      "needs_background": "light"
     },
     "output_type": "display_data"
    }
   ],
   "source": [
    "sns.scatterplot(data[0],data[1],hue=data[2])"
   ]
  },
  {
   "cell_type": "code",
   "execution_count": 6,
   "id": "adc29632",
   "metadata": {},
   "outputs": [],
   "source": [
    "from sklearn.model_selection import train_test_split\n",
    "x_train,x_test,y_train,y_test=train_test_split(data[[0,1]],data[2],test_size=0.1,)"
   ]
  },
  {
   "cell_type": "code",
   "execution_count": 7,
   "id": "d0d2f020",
   "metadata": {},
   "outputs": [],
   "source": [
    "import tensorflow \n",
    "from tensorflow import keras\n",
    "from keras.models import Sequential\n",
    "from keras.layers import Dense,Dropout"
   ]
  },
  {
   "cell_type": "code",
   "execution_count": 8,
   "id": "945a0921",
   "metadata": {},
   "outputs": [],
   "source": [
    "from sklearn.preprocessing import StandardScaler\n",
    "std=StandardScaler()\n",
    "x_trainf=std.fit_transform(x_train)\n",
    "x_testf=std.transform(x_test)"
   ]
  },
  {
   "cell_type": "code",
   "execution_count": 9,
   "id": "2db79b2c",
   "metadata": {},
   "outputs": [],
   "source": [
    "model=Sequential()\n",
    "model.add(Dense(3,activation=\"relu\",kernel_initializer=\"he_uniform\",input_dim=2))\n",
    "model.add(Dense(1,activation=\"sigmoid\"))"
   ]
  },
  {
   "cell_type": "code",
   "execution_count": 10,
   "id": "0f08a7d5",
   "metadata": {},
   "outputs": [],
   "source": [
    "model.compile(optimizer=\"Adam\",loss=\"binary_crossentropy\",metrics=[\"accuracy\"])"
   ]
  },
  {
   "cell_type": "markdown",
   "id": "852e6c56",
   "metadata": {},
   "source": [
    "#### Training the data"
   ]
  },
  {
   "cell_type": "code",
   "execution_count": 11,
   "id": "09f6ea2b",
   "metadata": {},
   "outputs": [
    {
     "name": "stdout",
     "output_type": "stream",
     "text": [
      "Epoch 1/50\n",
      "72/72 [==============================] - 1s 4ms/step - loss: 1.3104 - accuracy: 0.5000 - val_loss: 1.4671 - val_accuracy: 0.4444\n",
      "Epoch 2/50\n",
      "72/72 [==============================] - 0s 2ms/step - loss: 1.2358 - accuracy: 0.5000 - val_loss: 1.3759 - val_accuracy: 0.4444\n",
      "Epoch 3/50\n",
      "72/72 [==============================] - 0s 2ms/step - loss: 1.1659 - accuracy: 0.5139 - val_loss: 1.2959 - val_accuracy: 0.4444\n",
      "Epoch 4/50\n",
      "72/72 [==============================] - 0s 2ms/step - loss: 1.1034 - accuracy: 0.5278 - val_loss: 1.2210 - val_accuracy: 0.4444\n",
      "Epoch 5/50\n",
      "72/72 [==============================] - 0s 2ms/step - loss: 1.0471 - accuracy: 0.5278 - val_loss: 1.1494 - val_accuracy: 0.4444\n",
      "Epoch 6/50\n",
      "72/72 [==============================] - 0s 2ms/step - loss: 0.9960 - accuracy: 0.5278 - val_loss: 1.0891 - val_accuracy: 0.4444\n",
      "Epoch 7/50\n",
      "72/72 [==============================] - 0s 2ms/step - loss: 0.9492 - accuracy: 0.5278 - val_loss: 1.0289 - val_accuracy: 0.4444\n",
      "Epoch 8/50\n",
      "72/72 [==============================] - 0s 2ms/step - loss: 0.9075 - accuracy: 0.5556 - val_loss: 0.9798 - val_accuracy: 0.4444\n",
      "Epoch 9/50\n",
      "72/72 [==============================] - 0s 2ms/step - loss: 0.8686 - accuracy: 0.5556 - val_loss: 0.9343 - val_accuracy: 0.4444\n",
      "Epoch 10/50\n",
      "72/72 [==============================] - 0s 2ms/step - loss: 0.8323 - accuracy: 0.5278 - val_loss: 0.8868 - val_accuracy: 0.4444\n",
      "Epoch 11/50\n",
      "72/72 [==============================] - 0s 2ms/step - loss: 0.7991 - accuracy: 0.5278 - val_loss: 0.8482 - val_accuracy: 0.4444\n",
      "Epoch 12/50\n",
      "72/72 [==============================] - 0s 2ms/step - loss: 0.7688 - accuracy: 0.5417 - val_loss: 0.8117 - val_accuracy: 0.4444\n",
      "Epoch 13/50\n",
      "72/72 [==============================] - 0s 2ms/step - loss: 0.7408 - accuracy: 0.5417 - val_loss: 0.7780 - val_accuracy: 0.4444\n",
      "Epoch 14/50\n",
      "72/72 [==============================] - 0s 2ms/step - loss: 0.7153 - accuracy: 0.5556 - val_loss: 0.7477 - val_accuracy: 0.4444\n",
      "Epoch 15/50\n",
      "72/72 [==============================] - 0s 2ms/step - loss: 0.6920 - accuracy: 0.5694 - val_loss: 0.7191 - val_accuracy: 0.5000\n",
      "Epoch 16/50\n",
      "72/72 [==============================] - 0s 2ms/step - loss: 0.6701 - accuracy: 0.5556 - val_loss: 0.6958 - val_accuracy: 0.5000\n",
      "Epoch 17/50\n",
      "72/72 [==============================] - 0s 2ms/step - loss: 0.6502 - accuracy: 0.5417 - val_loss: 0.6744 - val_accuracy: 0.5000\n",
      "Epoch 18/50\n",
      "72/72 [==============================] - 0s 2ms/step - loss: 0.6326 - accuracy: 0.5417 - val_loss: 0.6515 - val_accuracy: 0.4444\n",
      "Epoch 19/50\n",
      "72/72 [==============================] - 0s 2ms/step - loss: 0.6150 - accuracy: 0.5417 - val_loss: 0.6352 - val_accuracy: 0.4444\n",
      "Epoch 20/50\n",
      "72/72 [==============================] - 0s 2ms/step - loss: 0.5986 - accuracy: 0.5417 - val_loss: 0.6157 - val_accuracy: 0.4444\n",
      "Epoch 21/50\n",
      "72/72 [==============================] - 0s 2ms/step - loss: 0.5837 - accuracy: 0.5972 - val_loss: 0.5983 - val_accuracy: 0.4444\n",
      "Epoch 22/50\n",
      "72/72 [==============================] - 0s 2ms/step - loss: 0.5699 - accuracy: 0.6111 - val_loss: 0.5838 - val_accuracy: 0.5000\n",
      "Epoch 23/50\n",
      "72/72 [==============================] - 0s 2ms/step - loss: 0.5580 - accuracy: 0.6667 - val_loss: 0.5692 - val_accuracy: 0.5556\n",
      "Epoch 24/50\n",
      "72/72 [==============================] - 0s 2ms/step - loss: 0.5464 - accuracy: 0.7083 - val_loss: 0.5542 - val_accuracy: 0.5556\n",
      "Epoch 25/50\n",
      "72/72 [==============================] - 0s 2ms/step - loss: 0.5357 - accuracy: 0.7222 - val_loss: 0.5415 - val_accuracy: 0.5556\n",
      "Epoch 26/50\n",
      "72/72 [==============================] - 0s 2ms/step - loss: 0.5256 - accuracy: 0.7500 - val_loss: 0.5299 - val_accuracy: 0.6667\n",
      "Epoch 27/50\n",
      "72/72 [==============================] - 0s 2ms/step - loss: 0.5168 - accuracy: 0.8056 - val_loss: 0.5168 - val_accuracy: 0.7222\n",
      "Epoch 28/50\n",
      "72/72 [==============================] - 0s 2ms/step - loss: 0.5077 - accuracy: 0.8056 - val_loss: 0.5076 - val_accuracy: 0.7222\n",
      "Epoch 29/50\n",
      "72/72 [==============================] - 0s 2ms/step - loss: 0.5000 - accuracy: 0.8056 - val_loss: 0.4954 - val_accuracy: 0.7778\n",
      "Epoch 30/50\n",
      "72/72 [==============================] - 0s 2ms/step - loss: 0.4927 - accuracy: 0.8056 - val_loss: 0.4863 - val_accuracy: 0.7778\n",
      "Epoch 31/50\n",
      "72/72 [==============================] - 0s 2ms/step - loss: 0.4859 - accuracy: 0.8056 - val_loss: 0.4766 - val_accuracy: 0.7778\n",
      "Epoch 32/50\n",
      "72/72 [==============================] - 0s 2ms/step - loss: 0.4796 - accuracy: 0.8056 - val_loss: 0.4671 - val_accuracy: 0.7778\n",
      "Epoch 33/50\n",
      "72/72 [==============================] - 0s 2ms/step - loss: 0.4737 - accuracy: 0.8056 - val_loss: 0.4600 - val_accuracy: 0.7778\n",
      "Epoch 34/50\n",
      "72/72 [==============================] - 0s 2ms/step - loss: 0.4683 - accuracy: 0.8056 - val_loss: 0.4511 - val_accuracy: 0.7778\n",
      "Epoch 35/50\n",
      "72/72 [==============================] - 0s 2ms/step - loss: 0.4633 - accuracy: 0.8194 - val_loss: 0.4431 - val_accuracy: 0.7778\n",
      "Epoch 36/50\n",
      "72/72 [==============================] - 0s 2ms/step - loss: 0.4588 - accuracy: 0.8194 - val_loss: 0.4364 - val_accuracy: 0.7778\n",
      "Epoch 37/50\n",
      "72/72 [==============================] - 0s 2ms/step - loss: 0.4545 - accuracy: 0.8194 - val_loss: 0.4295 - val_accuracy: 0.7778\n",
      "Epoch 38/50\n",
      "72/72 [==============================] - 0s 2ms/step - loss: 0.4502 - accuracy: 0.8194 - val_loss: 0.4232 - val_accuracy: 0.8333\n",
      "Epoch 39/50\n",
      "72/72 [==============================] - 0s 2ms/step - loss: 0.4467 - accuracy: 0.8194 - val_loss: 0.4186 - val_accuracy: 0.8333\n",
      "Epoch 40/50\n",
      "72/72 [==============================] - 0s 2ms/step - loss: 0.4436 - accuracy: 0.8194 - val_loss: 0.4128 - val_accuracy: 0.8333\n",
      "Epoch 41/50\n",
      "72/72 [==============================] - 0s 2ms/step - loss: 0.4400 - accuracy: 0.8194 - val_loss: 0.4092 - val_accuracy: 0.8333\n",
      "Epoch 42/50\n",
      "72/72 [==============================] - 0s 2ms/step - loss: 0.4371 - accuracy: 0.8194 - val_loss: 0.4039 - val_accuracy: 0.8333\n",
      "Epoch 43/50\n",
      "72/72 [==============================] - 0s 2ms/step - loss: 0.4345 - accuracy: 0.8194 - val_loss: 0.3984 - val_accuracy: 0.8333\n",
      "Epoch 44/50\n",
      "72/72 [==============================] - 0s 2ms/step - loss: 0.4317 - accuracy: 0.8194 - val_loss: 0.3961 - val_accuracy: 0.8333\n",
      "Epoch 45/50\n",
      "72/72 [==============================] - 0s 2ms/step - loss: 0.4296 - accuracy: 0.8194 - val_loss: 0.3916 - val_accuracy: 0.8333\n",
      "Epoch 46/50\n",
      "72/72 [==============================] - 0s 2ms/step - loss: 0.4267 - accuracy: 0.8194 - val_loss: 0.3880 - val_accuracy: 0.8333\n",
      "Epoch 47/50\n",
      "72/72 [==============================] - 0s 2ms/step - loss: 0.4245 - accuracy: 0.8194 - val_loss: 0.3840 - val_accuracy: 0.8333\n",
      "Epoch 48/50\n",
      "72/72 [==============================] - 0s 2ms/step - loss: 0.4226 - accuracy: 0.8194 - val_loss: 0.3808 - val_accuracy: 0.8889\n",
      "Epoch 49/50\n",
      "72/72 [==============================] - 0s 2ms/step - loss: 0.4204 - accuracy: 0.8194 - val_loss: 0.3772 - val_accuracy: 0.8889\n",
      "Epoch 50/50\n",
      "72/72 [==============================] - 0s 2ms/step - loss: 0.4189 - accuracy: 0.8194 - val_loss: 0.3740 - val_accuracy: 0.8889\n"
     ]
    }
   ],
   "source": [
    "history=model.fit(x_trainf,y_train,batch_size=1,epochs=50,validation_split=0.2)"
   ]
  },
  {
   "cell_type": "code",
   "execution_count": 12,
   "id": "7ff50f53",
   "metadata": {},
   "outputs": [
    {
     "data": {
      "text/plain": [
       "[array([[-1.9017153 , -1.1322342 ,  0.48729822],\n",
       "        [-0.18279429,  1.1355809 , -2.1799724 ]], dtype=float32),\n",
       " array([-0.11304383, -0.66999424,  0.49492168], dtype=float32),\n",
       " array([[-0.39839995],\n",
       "        [-0.09642386],\n",
       "        [ 1.1164093 ]], dtype=float32),\n",
       " array([-0.5677748], dtype=float32)]"
      ]
     },
     "execution_count": 12,
     "metadata": {},
     "output_type": "execute_result"
    }
   ],
   "source": [
    "model.get_weights()"
   ]
  },
  {
   "cell_type": "code",
   "execution_count": 13,
   "id": "2ad00141",
   "metadata": {},
   "outputs": [
    {
     "name": "stdout",
     "output_type": "stream",
     "text": [
      "1/1 [==============================] - 0s 94ms/step\n"
     ]
    }
   ],
   "source": [
    "y_cap=model.predict(x_testf)"
   ]
  },
  {
   "cell_type": "code",
   "execution_count": 14,
   "id": "946770e3",
   "metadata": {},
   "outputs": [],
   "source": [
    "y_capf=np.where(y_cap>0.5,1,0)"
   ]
  },
  {
   "cell_type": "code",
   "execution_count": 15,
   "id": "ff026a7d",
   "metadata": {},
   "outputs": [
    {
     "data": {
      "text/plain": [
       "0.9"
      ]
     },
     "execution_count": 15,
     "metadata": {},
     "output_type": "execute_result"
    }
   ],
   "source": [
    "from sklearn.metrics import accuracy_score\n",
    "accuracy_score(y_test,y_capf)"
   ]
  },
  {
   "cell_type": "code",
   "execution_count": 16,
   "id": "d35ca3b0",
   "metadata": {},
   "outputs": [
    {
     "data": {
      "text/plain": [
       "[<matplotlib.lines.Line2D at 0x20b8b2758b0>]"
      ]
     },
     "execution_count": 16,
     "metadata": {},
     "output_type": "execute_result"
    },
    {
     "data": {
      "image/png": "[encoded data removed]",
      "text/plain": [
       "<Figure size 432x288 with 1 Axes>"
      ]
     },
     "metadata": {
      "needs_background": "light"
     },
     "output_type": "display_data"
    }
   ],
   "source": [
    "plt.plot(history.history[\"loss\"])\n",
    "plt.plot(history.history[\"val_loss\"])"
   ]
  },
  {
   "cell_type": "code",
   "execution_count": 17,
   "id": "f884e715",
   "metadata": {},
   "outputs": [],
   "source": [
    "from mlxtend.plotting import plot_decision_regions"
   ]
  },
  {
   "cell_type": "code",
   "execution_count": 18,
   "id": "d9454f49",
   "metadata": {},
   "outputs": [
    {
     "name": "stdout",
     "output_type": "stream",
     "text": [
      "3888/3888 [==============================] - 4s 1ms/step\n"
     ]
    },
    {
     "data": {
      "text/plain": [
       "<AxesSubplot:>"
      ]
     },
     "execution_count": 18,
     "metadata": {},
     "output_type": "execute_result"
    },
    {
     "data": {
      "image/png": "[encoded data removed]",
      "text/plain": [
       "<Figure size 432x288 with 1 Axes>"
      ]
     },
     "metadata": {
      "needs_background": "light"
     },
     "output_type": "display_data"
    }
   ],
   "source": [
    "plot_decision_regions(data[[0,1]].values,data[2].values.astype(int),clf=model)"
   ]
  },
  {
   "cell_type": "code",
   "execution_count": 19,
   "id": "dae310a2",
   "metadata": {},
   "outputs": [
    {
     "data": {
      "text/plain": [
       "array([[1],\n",
       "       [1],\n",
       "       [0],\n",
       "       [0],\n",
       "       [1],\n",
       "       [0],\n",
       "       [1],\n",
       "       [1],\n",
       "       [0],\n",
       "       [0]])"
      ]
     },
     "execution_count": 19,
     "metadata": {},
     "output_type": "execute_result"
    }
   ],
   "source": [
    "y_capf"
   ]
  },
  {
   "cell_type": "code",
   "execution_count": 20,
   "id": "351048b0",
   "metadata": {},
   "outputs": [
    {
     "name": "stdout",
     "output_type": "stream",
     "text": [
      "3888/3888 [==============================] - 4s 1ms/step\n"
     ]
    },
    {
     "data": {
      "text/plain": [
       "<AxesSubplot:>"
      ]
     },
     "execution_count": 20,
     "metadata": {},
     "output_type": "execute_result"
    },
    {
     "data": {
      "image/png": "[encoded data removed]",
      "text/plain": [
       "<Figure size 432x288 with 1 Axes>"
      ]
     },
     "metadata": {
      "needs_background": "light"
     },
     "output_type": "display_data"
    }
   ],
   "source": [
    "plot_decision_regions(x_testf,y_test.values.astype(int),clf=model)"
   ]
  },
  {
   "cell_type": "code",
   "execution_count": 21,
   "id": "a235530b",
   "metadata": {},
   "outputs": [
    {
     "data": {
      "text/plain": [
       "array([[-0.31505781, -1.46759332],\n",
       "       [ 0.30392922, -0.12344178]])"
      ]
     },
     "execution_count": 21,
     "metadata": {},
     "output_type": "execute_result"
    }
   ],
   "source": [
    "x_testf[[0,1]]"
   ]
  },
  {
   "cell_type": "code",
   "execution_count": 22,
   "id": "ffa8a0d9",
   "metadata": {},
   "outputs": [
    {
     "data": {
      "text/plain": [
       "96    1.0\n",
       "49    0.0\n",
       "57    0.0\n",
       "92    0.0\n",
       "89    1.0\n",
       "91    0.0\n",
       "65    1.0\n",
       "73    1.0\n",
       "66    0.0\n",
       "94    0.0\n",
       "Name: 2, dtype: float64"
      ]
     },
     "execution_count": 22,
     "metadata": {},
     "output_type": "execute_result"
    }
   ],
   "source": [
    "y_test"
   ]
  },
  {
   "cell_type": "code",
   "execution_count": 23,
   "id": "6edc10a6",
   "metadata": {},
   "outputs": [],
   "source": [
    "model1=Sequential()\n",
    "model1.add(Dense(3,activation=\"relu\",input_dim=2,kernel_initializer=\"he_uniform\"))\n",
    "\n",
    "model1.add(Dense(2,activation=\"relu\",kernel_initializer=\"he_uniform\"))\n",
    "\n",
    "\n",
    "model1.add(Dense(1,activation=\"sigmoid\"))"
   ]
  },
  {
   "cell_type": "code",
   "execution_count": 24,
   "id": "0cfa298f",
   "metadata": {},
   "outputs": [],
   "source": [
    "model1.compile(optimizer=\"Adam\",loss=\"binary_crossentropy\",metrics=[\"accuracy\"])"
   ]
  },
  {
   "cell_type": "code",
   "execution_count": 25,
   "id": "5c08bfcc",
   "metadata": {},
   "outputs": [
    {
     "name": "stdout",
     "output_type": "stream",
     "text": [
      "Epoch 1/50\n",
      "72/72 [==============================] - 1s 3ms/step - loss: 0.9656 - accuracy: 0.5417 - val_loss: 1.0340 - val_accuracy: 0.5556\n",
      "Epoch 2/50\n",
      "72/72 [==============================] - 0s 2ms/step - loss: 0.8865 - accuracy: 0.5833 - val_loss: 0.9375 - val_accuracy: 0.5556\n",
      "Epoch 3/50\n",
      "72/72 [==============================] - 0s 2ms/step - loss: 0.8194 - accuracy: 0.5833 - val_loss: 0.8614 - val_accuracy: 0.5556\n",
      "Epoch 4/50\n",
      "72/72 [==============================] - 0s 2ms/step - loss: 0.7617 - accuracy: 0.6111 - val_loss: 0.7948 - val_accuracy: 0.5556\n",
      "Epoch 5/50\n",
      "72/72 [==============================] - 0s 2ms/step - loss: 0.7139 - accuracy: 0.5972 - val_loss: 0.7384 - val_accuracy: 0.5556\n",
      "Epoch 6/50\n",
      "72/72 [==============================] - 0s 2ms/step - loss: 0.6740 - accuracy: 0.5833 - val_loss: 0.6901 - val_accuracy: 0.5556\n",
      "Epoch 7/50\n",
      "72/72 [==============================] - 0s 2ms/step - loss: 0.6400 - accuracy: 0.6111 - val_loss: 0.6475 - val_accuracy: 0.6111\n",
      "Epoch 8/50\n",
      "72/72 [==============================] - 0s 2ms/step - loss: 0.6087 - accuracy: 0.5972 - val_loss: 0.6121 - val_accuracy: 0.6111\n",
      "Epoch 9/50\n",
      "72/72 [==============================] - 0s 2ms/step - loss: 0.5858 - accuracy: 0.6111 - val_loss: 0.5797 - val_accuracy: 0.5556\n",
      "Epoch 10/50\n",
      "72/72 [==============================] - 0s 2ms/step - loss: 0.5668 - accuracy: 0.6667 - val_loss: 0.5548 - val_accuracy: 0.6111\n",
      "Epoch 11/50\n",
      "72/72 [==============================] - 0s 2ms/step - loss: 0.5496 - accuracy: 0.6667 - val_loss: 0.5299 - val_accuracy: 0.6111\n",
      "Epoch 12/50\n",
      "72/72 [==============================] - 0s 2ms/step - loss: 0.5354 - accuracy: 0.7639 - val_loss: 0.5095 - val_accuracy: 0.6667\n",
      "Epoch 13/50\n",
      "72/72 [==============================] - 0s 2ms/step - loss: 0.5230 - accuracy: 0.7917 - val_loss: 0.4925 - val_accuracy: 0.8889\n",
      "Epoch 14/50\n",
      "72/72 [==============================] - 0s 2ms/step - loss: 0.5129 - accuracy: 0.8333 - val_loss: 0.4782 - val_accuracy: 0.8889\n",
      "Epoch 15/50\n",
      "72/72 [==============================] - 0s 2ms/step - loss: 0.5045 - accuracy: 0.8333 - val_loss: 0.4675 - val_accuracy: 0.8889\n",
      "Epoch 16/50\n",
      "72/72 [==============================] - 0s 2ms/step - loss: 0.4989 - accuracy: 0.8472 - val_loss: 0.4603 - val_accuracy: 0.8889\n",
      "Epoch 17/50\n",
      "72/72 [==============================] - 0s 2ms/step - loss: 0.4939 - accuracy: 0.8472 - val_loss: 0.4540 - val_accuracy: 0.8889\n",
      "Epoch 18/50\n",
      "72/72 [==============================] - 0s 2ms/step - loss: 0.4886 - accuracy: 0.8472 - val_loss: 0.4484 - val_accuracy: 0.8889\n",
      "Epoch 19/50\n",
      "72/72 [==============================] - 0s 2ms/step - loss: 0.4844 - accuracy: 0.8611 - val_loss: 0.4436 - val_accuracy: 0.8889\n",
      "Epoch 20/50\n",
      "72/72 [==============================] - 0s 2ms/step - loss: 0.4807 - accuracy: 0.8611 - val_loss: 0.4394 - val_accuracy: 0.8889\n",
      "Epoch 21/50\n",
      "72/72 [==============================] - 0s 2ms/step - loss: 0.4769 - accuracy: 0.8611 - val_loss: 0.4348 - val_accuracy: 0.8889\n",
      "Epoch 22/50\n",
      "72/72 [==============================] - 0s 2ms/step - loss: 0.4735 - accuracy: 0.8611 - val_loss: 0.4309 - val_accuracy: 0.8889\n",
      "Epoch 23/50\n",
      "72/72 [==============================] - 0s 2ms/step - loss: 0.4701 - accuracy: 0.8611 - val_loss: 0.4269 - val_accuracy: 0.8889\n",
      "Epoch 24/50\n",
      "72/72 [==============================] - 0s 2ms/step - loss: 0.4667 - accuracy: 0.8611 - val_loss: 0.4234 - val_accuracy: 0.8889\n",
      "Epoch 25/50\n",
      "72/72 [==============================] - 0s 2ms/step - loss: 0.4643 - accuracy: 0.8472 - val_loss: 0.4192 - val_accuracy: 0.8889\n",
      "Epoch 26/50\n",
      "72/72 [==============================] - 0s 2ms/step - loss: 0.4613 - accuracy: 0.8472 - val_loss: 0.4154 - val_accuracy: 0.8889\n",
      "Epoch 27/50\n",
      "72/72 [==============================] - 0s 2ms/step - loss: 0.4594 - accuracy: 0.8472 - val_loss: 0.4117 - val_accuracy: 0.8889\n",
      "Epoch 28/50\n",
      "72/72 [==============================] - 0s 2ms/step - loss: 0.4565 - accuracy: 0.8472 - val_loss: 0.4074 - val_accuracy: 0.8889\n",
      "Epoch 29/50\n",
      "72/72 [==============================] - 0s 2ms/step - loss: 0.4540 - accuracy: 0.8472 - val_loss: 0.4049 - val_accuracy: 0.8889\n",
      "Epoch 30/50\n",
      "72/72 [==============================] - 0s 2ms/step - loss: 0.4515 - accuracy: 0.8333 - val_loss: 0.4015 - val_accuracy: 0.8889\n",
      "Epoch 31/50\n",
      "72/72 [==============================] - 0s 2ms/step - loss: 0.4495 - accuracy: 0.8333 - val_loss: 0.3995 - val_accuracy: 0.8889\n",
      "Epoch 32/50\n",
      "72/72 [==============================] - 0s 2ms/step - loss: 0.4471 - accuracy: 0.8333 - val_loss: 0.3954 - val_accuracy: 0.8889\n",
      "Epoch 33/50\n",
      "72/72 [==============================] - 0s 2ms/step - loss: 0.4454 - accuracy: 0.8472 - val_loss: 0.3921 - val_accuracy: 0.8889\n",
      "Epoch 34/50\n",
      "72/72 [==============================] - 0s 2ms/step - loss: 0.4433 - accuracy: 0.8472 - val_loss: 0.3894 - val_accuracy: 0.8889\n",
      "Epoch 35/50\n",
      "72/72 [==============================] - 0s 2ms/step - loss: 0.4413 - accuracy: 0.8333 - val_loss: 0.3863 - val_accuracy: 0.8889\n",
      "Epoch 36/50\n",
      "72/72 [==============================] - 0s 2ms/step - loss: 0.4396 - accuracy: 0.8472 - val_loss: 0.3848 - val_accuracy: 0.8889\n",
      "Epoch 37/50\n",
      "72/72 [==============================] - 0s 2ms/step - loss: 0.4374 - accuracy: 0.8472 - val_loss: 0.3819 - val_accuracy: 0.8889\n",
      "Epoch 38/50\n",
      "72/72 [==============================] - 0s 2ms/step - loss: 0.4358 - accuracy: 0.8472 - val_loss: 0.3795 - val_accuracy: 0.8889\n",
      "Epoch 39/50\n",
      "72/72 [==============================] - 0s 2ms/step - loss: 0.4335 - accuracy: 0.8472 - val_loss: 0.3775 - val_accuracy: 0.8889\n",
      "Epoch 40/50\n",
      "72/72 [==============================] - 0s 2ms/step - loss: 0.4321 - accuracy: 0.8472 - val_loss: 0.3744 - val_accuracy: 0.8889\n",
      "Epoch 41/50\n",
      "72/72 [==============================] - 0s 2ms/step - loss: 0.4301 - accuracy: 0.8472 - val_loss: 0.3737 - val_accuracy: 0.8889\n",
      "Epoch 42/50\n",
      "72/72 [==============================] - 0s 2ms/step - loss: 0.4286 - accuracy: 0.8472 - val_loss: 0.3714 - val_accuracy: 0.8889\n",
      "Epoch 43/50\n",
      "72/72 [==============================] - 0s 2ms/step - loss: 0.4270 - accuracy: 0.8472 - val_loss: 0.3688 - val_accuracy: 0.8889\n",
      "Epoch 44/50\n",
      "72/72 [==============================] - 0s 2ms/step - loss: 0.4256 - accuracy: 0.8472 - val_loss: 0.3673 - val_accuracy: 0.8889\n",
      "Epoch 45/50\n",
      "72/72 [==============================] - 0s 2ms/step - loss: 0.4245 - accuracy: 0.8472 - val_loss: 0.3652 - val_accuracy: 0.8889\n",
      "Epoch 46/50\n",
      "72/72 [==============================] - 0s 2ms/step - loss: 0.4236 - accuracy: 0.8472 - val_loss: 0.3640 - val_accuracy: 0.8889\n",
      "Epoch 47/50\n",
      "72/72 [==============================] - 0s 2ms/step - loss: 0.4216 - accuracy: 0.8472 - val_loss: 0.3621 - val_accuracy: 0.8889\n",
      "Epoch 48/50\n",
      "72/72 [==============================] - 0s 2ms/step - loss: 0.4206 - accuracy: 0.8472 - val_loss: 0.3603 - val_accuracy: 0.8889\n",
      "Epoch 49/50\n",
      "72/72 [==============================] - 0s 2ms/step - loss: 0.4203 - accuracy: 0.8472 - val_loss: 0.3593 - val_accuracy: 0.8889\n",
      "Epoch 50/50\n",
      "72/72 [==============================] - 0s 2ms/step - loss: 0.4178 - accuracy: 0.8472 - val_loss: 0.3565 - val_accuracy: 0.8889\n"
     ]
    }
   ],
   "source": [
    "history=model1.fit(x_trainf,y_train,batch_size=1,epochs=50,validation_split=0.2)"
   ]
  },
  {
   "cell_type": "code",
   "execution_count": 26,
   "id": "37d8d90d",
   "metadata": {},
   "outputs": [
    {
     "name": "stdout",
     "output_type": "stream",
     "text": [
      "1/1 [==============================] - 0s 50ms/step\n"
     ]
    }
   ],
   "source": [
    "y_cap1=model1.predict(x_testf)"
   ]
  },
  {
   "cell_type": "code",
   "execution_count": 27,
   "id": "1b4cf5f6",
   "metadata": {},
   "outputs": [],
   "source": [
    "y_capf=np.where(y_cap1>0.5,1,0)"
   ]
  },
  {
   "cell_type": "code",
   "execution_count": 28,
   "id": "32b2603c",
   "metadata": {},
   "outputs": [
    {
     "data": {
      "text/plain": [
       "0.9"
      ]
     },
     "execution_count": 28,
     "metadata": {},
     "output_type": "execute_result"
    }
   ],
   "source": [
    "from sklearn.metrics import accuracy_score\n",
    "accuracy_score(y_test,y_capf)"
   ]
  },
  {
   "cell_type": "code",
   "execution_count": 29,
   "id": "bc273228",
   "metadata": {},
   "outputs": [
    {
     "data": {
      "text/plain": [
       "[<matplotlib.lines.Line2D at 0x20b8c5f6790>]"
      ]
     },
     "execution_count": 29,
     "metadata": {},
     "output_type": "execute_result"
    },
    {
     "data": {
      "image/png": "[encoded data removed]",
      "text/plain": [
       "<Figure size 432x288 with 1 Axes>"
      ]
     },
     "metadata": {
      "needs_background": "light"
     },
     "output_type": "display_data"
    }
   ],
   "source": [
    "plt.plot(history.history[\"loss\"])\n",
    "plt.plot(history.history[\"val_loss\"])"
   ]
  },
  {
   "cell_type": "code",
   "execution_count": 30,
   "id": "ec52e052",
   "metadata": {},
   "outputs": [
    {
     "name": "stdout",
     "output_type": "stream",
     "text": [
      "3888/3888 [==============================] - 4s 1ms/step\n"
     ]
    },
    {
     "data": {
      "text/plain": [
       "<AxesSubplot:>"
      ]
     },
     "execution_count": 30,
     "metadata": {},
     "output_type": "execute_result"
    },
    {
     "data": {
      "image/png": "[encoded data removed]",
      "text/plain": [
       "<Figure size 432x288 with 1 Axes>"
      ]
     },
     "metadata": {
      "needs_background": "light"
     },
     "output_type": "display_data"
    }
   ],
   "source": [
    "plot_decision_regions(data[[0,1]].values,data[2].values.astype(int),clf=model1)"
   ]
  },
  {
   "cell_type": "code",
   "execution_count": 31,
   "id": "3e142552",
   "metadata": {},
   "outputs": [
    {
     "name": "stdout",
     "output_type": "stream",
     "text": [
      "3888/3888 [==============================] - 4s 1ms/step\n"
     ]
    },
    {
     "data": {
      "text/plain": [
       "<AxesSubplot:>"
      ]
     },
     "execution_count": 31,
     "metadata": {},
     "output_type": "execute_result"
    },
    {
     "data": {
      "image/png": "[encoded data removed]",
      "text/plain": [
       "<Figure size 432x288 with 1 Axes>"
      ]
     },
     "metadata": {
      "needs_background": "light"
     },
     "output_type": "display_data"
    }
   ],
   "source": [
    "plot_decision_regions(x_testf,y_test.values.astype(int),clf=model1)"
   ]
  },
  {
   "cell_type": "code",
   "execution_count": null,
   "id": "58dd15c5",
   "metadata": {},
   "outputs": [],
   "source": []
  },
  {
   "cell_type": "code",
   "execution_count": null,
   "id": "e9341dad",
   "metadata": {},
   "outputs": [],
   "source": []
  }
 ],
 "metadata": {
  "kernelspec": {
   "display_name": "Python 3 (ipykernel)",
   "language": "python",
   "name": "python3"
  },
  "language_info": {
   "codemirror_mode": {
    "name": "ipython",
    "version": 3
   },
   "file_extension": ".py",
   "mimetype": "text/x-python",
   "name": "python",
   "nbconvert_exporter": "python",
   "pygments_lexer": "ipython3",
   "version": "3.9.12"
  }
 },
 "nbformat": 4,
 "nbformat_minor": 5
}
