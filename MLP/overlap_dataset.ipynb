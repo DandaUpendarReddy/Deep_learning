{
 "cells": [
  {
   "cell_type": "code",
   "execution_count": 1,
   "id": "e34e3e96",
   "metadata": {},
   "outputs": [],
   "source": [
    "import pandas as pd\n",
    "import numpy as np\n",
    "import matplotlib.pyplot as plt\n",
    "import seaborn as sns"
   ]
  },
  {
   "cell_type": "code",
   "execution_count": 2,
   "id": "fd7690b7",
   "metadata": {},
   "outputs": [
    {
     "data": {
      "text/html": [
       "<div>\n",
       "<style scoped>\n",
       "    .dataframe tbody tr th:only-of-type {\n",
       "        vertical-align: middle;\n",
       "    }\n",
       "\n",
       "    .dataframe tbody tr th {\n",
       "        vertical-align: top;\n",
       "    }\n",
       "\n",
       "    .dataframe thead th {\n",
       "        text-align: right;\n",
       "    }\n",
       "</style>\n",
       "<table border=\"1\" class=\"dataframe\">\n",
       "  <thead>\n",
       "    <tr style=\"text-align: right;\">\n",
       "      <th></th>\n",
       "      <th>0</th>\n",
       "      <th>1</th>\n",
       "      <th>2</th>\n",
       "    </tr>\n",
       "  </thead>\n",
       "  <tbody>\n",
       "    <tr>\n",
       "      <th>0</th>\n",
       "      <td>7.0</td>\n",
       "      <td>3.2</td>\n",
       "      <td>0</td>\n",
       "    </tr>\n",
       "    <tr>\n",
       "      <th>1</th>\n",
       "      <td>6.4</td>\n",
       "      <td>3.2</td>\n",
       "      <td>0</td>\n",
       "    </tr>\n",
       "    <tr>\n",
       "      <th>2</th>\n",
       "      <td>6.9</td>\n",
       "      <td>3.1</td>\n",
       "      <td>0</td>\n",
       "    </tr>\n",
       "    <tr>\n",
       "      <th>3</th>\n",
       "      <td>5.5</td>\n",
       "      <td>2.3</td>\n",
       "      <td>0</td>\n",
       "    </tr>\n",
       "    <tr>\n",
       "      <th>4</th>\n",
       "      <td>6.5</td>\n",
       "      <td>2.8</td>\n",
       "      <td>0</td>\n",
       "    </tr>\n",
       "    <tr>\n",
       "      <th>...</th>\n",
       "      <td>...</td>\n",
       "      <td>...</td>\n",
       "      <td>...</td>\n",
       "    </tr>\n",
       "    <tr>\n",
       "      <th>95</th>\n",
       "      <td>6.7</td>\n",
       "      <td>3.0</td>\n",
       "      <td>1</td>\n",
       "    </tr>\n",
       "    <tr>\n",
       "      <th>96</th>\n",
       "      <td>6.3</td>\n",
       "      <td>2.5</td>\n",
       "      <td>1</td>\n",
       "    </tr>\n",
       "    <tr>\n",
       "      <th>97</th>\n",
       "      <td>6.5</td>\n",
       "      <td>3.0</td>\n",
       "      <td>1</td>\n",
       "    </tr>\n",
       "    <tr>\n",
       "      <th>98</th>\n",
       "      <td>6.2</td>\n",
       "      <td>3.4</td>\n",
       "      <td>1</td>\n",
       "    </tr>\n",
       "    <tr>\n",
       "      <th>99</th>\n",
       "      <td>5.9</td>\n",
       "      <td>3.0</td>\n",
       "      <td>1</td>\n",
       "    </tr>\n",
       "  </tbody>\n",
       "</table>\n",
       "<p>100 rows × 3 columns</p>\n",
       "</div>"
      ],
      "text/plain": [
       "      0    1  2\n",
       "0   7.0  3.2  0\n",
       "1   6.4  3.2  0\n",
       "2   6.9  3.1  0\n",
       "3   5.5  2.3  0\n",
       "4   6.5  2.8  0\n",
       "..  ...  ... ..\n",
       "95  6.7  3.0  1\n",
       "96  6.3  2.5  1\n",
       "97  6.5  3.0  1\n",
       "98  6.2  3.4  1\n",
       "99  5.9  3.0  1\n",
       "\n",
       "[100 rows x 3 columns]"
      ]
     },
     "execution_count": 2,
     "metadata": {},
     "output_type": "execute_result"
    }
   ],
   "source": [
    "df = pd.read_csv(r\"D:\\demo_data\\6.overlap.csv\", header=None)\n",
    "df"
   ]
  },
  {
   "cell_type": "code",
   "execution_count": 3,
   "id": "da68e044",
   "metadata": {},
   "outputs": [
    {
     "data": {
      "text/plain": [
       "(100, 3)"
      ]
     },
     "execution_count": 3,
     "metadata": {},
     "output_type": "execute_result"
    }
   ],
   "source": [
    "df.shape"
   ]
  },
  {
   "cell_type": "code",
   "execution_count": 4,
   "id": "d161958d",
   "metadata": {},
   "outputs": [
    {
     "data": {
      "text/html": [
       "<div>\n",
       "<style scoped>\n",
       "    .dataframe tbody tr th:only-of-type {\n",
       "        vertical-align: middle;\n",
       "    }\n",
       "\n",
       "    .dataframe tbody tr th {\n",
       "        vertical-align: top;\n",
       "    }\n",
       "\n",
       "    .dataframe thead th {\n",
       "        text-align: right;\n",
       "    }\n",
       "</style>\n",
       "<table border=\"1\" class=\"dataframe\">\n",
       "  <thead>\n",
       "    <tr style=\"text-align: right;\">\n",
       "      <th></th>\n",
       "      <th>0</th>\n",
       "      <th>1</th>\n",
       "    </tr>\n",
       "  </thead>\n",
       "  <tbody>\n",
       "    <tr>\n",
       "      <th>0</th>\n",
       "      <td>7.0</td>\n",
       "      <td>3.2</td>\n",
       "    </tr>\n",
       "    <tr>\n",
       "      <th>1</th>\n",
       "      <td>6.4</td>\n",
       "      <td>3.2</td>\n",
       "    </tr>\n",
       "    <tr>\n",
       "      <th>2</th>\n",
       "      <td>6.9</td>\n",
       "      <td>3.1</td>\n",
       "    </tr>\n",
       "    <tr>\n",
       "      <th>3</th>\n",
       "      <td>5.5</td>\n",
       "      <td>2.3</td>\n",
       "    </tr>\n",
       "    <tr>\n",
       "      <th>4</th>\n",
       "      <td>6.5</td>\n",
       "      <td>2.8</td>\n",
       "    </tr>\n",
       "    <tr>\n",
       "      <th>...</th>\n",
       "      <td>...</td>\n",
       "      <td>...</td>\n",
       "    </tr>\n",
       "    <tr>\n",
       "      <th>95</th>\n",
       "      <td>6.7</td>\n",
       "      <td>3.0</td>\n",
       "    </tr>\n",
       "    <tr>\n",
       "      <th>96</th>\n",
       "      <td>6.3</td>\n",
       "      <td>2.5</td>\n",
       "    </tr>\n",
       "    <tr>\n",
       "      <th>97</th>\n",
       "      <td>6.5</td>\n",
       "      <td>3.0</td>\n",
       "    </tr>\n",
       "    <tr>\n",
       "      <th>98</th>\n",
       "      <td>6.2</td>\n",
       "      <td>3.4</td>\n",
       "    </tr>\n",
       "    <tr>\n",
       "      <th>99</th>\n",
       "      <td>5.9</td>\n",
       "      <td>3.0</td>\n",
       "    </tr>\n",
       "  </tbody>\n",
       "</table>\n",
       "<p>100 rows × 2 columns</p>\n",
       "</div>"
      ],
      "text/plain": [
       "      0    1\n",
       "0   7.0  3.2\n",
       "1   6.4  3.2\n",
       "2   6.9  3.1\n",
       "3   5.5  2.3\n",
       "4   6.5  2.8\n",
       "..  ...  ...\n",
       "95  6.7  3.0\n",
       "96  6.3  2.5\n",
       "97  6.5  3.0\n",
       "98  6.2  3.4\n",
       "99  5.9  3.0\n",
       "\n",
       "[100 rows x 2 columns]"
      ]
     },
     "execution_count": 4,
     "metadata": {},
     "output_type": "execute_result"
    }
   ],
   "source": [
    "df[[0,1]]"
   ]
  },
  {
   "cell_type": "code",
   "execution_count": 5,
   "id": "3ef403a1",
   "metadata": {},
   "outputs": [
    {
     "data": {
      "text/plain": [
       "<AxesSubplot:xlabel='0', ylabel='1'>"
      ]
     },
     "execution_count": 5,
     "metadata": {},
     "output_type": "execute_result"
    },
    {
     "data": {
      "image/png": "[encoded data removed]",
      "text/plain": [
       "<Figure size 432x288 with 1 Axes>"
      ]
     },
     "metadata": {
      "needs_background": "light"
     },
     "output_type": "display_data"
    }
   ],
   "source": [
    "sns.scatterplot(x=df[0],y=df[1],hue=df[2],data=df)"
   ]
  },
  {
   "cell_type": "code",
   "execution_count": 6,
   "id": "a3a67f69",
   "metadata": {},
   "outputs": [],
   "source": [
    "from sklearn.model_selection import train_test_split\n",
    "x_train,x_test,y_train,y_test = train_test_split(df[[0,1]],df[2],test_size=0.1)"
   ]
  },
  {
   "cell_type": "code",
   "execution_count": 7,
   "id": "4862f1c4",
   "metadata": {},
   "outputs": [],
   "source": [
    "from sklearn.preprocessing import StandardScaler\n",
    "std = StandardScaler()"
   ]
  },
  {
   "cell_type": "code",
   "execution_count": 8,
   "id": "4abf0698",
   "metadata": {},
   "outputs": [],
   "source": [
    "x_train = std.fit_transform(x_train)\n",
    "x_test = std.transform(x_test)"
   ]
  },
  {
   "cell_type": "code",
   "execution_count": 9,
   "id": "20e0c2e1",
   "metadata": {},
   "outputs": [],
   "source": [
    "import tensorflow\n",
    "import tensorflow.keras\n",
    "from tensorflow.keras import Sequential\n",
    "from tensorflow.keras.layers import Dense, Dropout"
   ]
  },
  {
   "cell_type": "code",
   "execution_count": 10,
   "id": "cd35ac6c",
   "metadata": {},
   "outputs": [],
   "source": [
    "model = Sequential()\n",
    "model.add(Dense(10,activation='relu',kernel_initializer = \"he_normal\", input_dim = 2))\n",
    "model.add(Dropout(0.2))\n",
    "model.add(Dense(9,activation='relu',kernel_initializer = \"he_normal\"))\n",
    "model.add(Dropout(0.2))\n",
    "model.add(Dense(8,activation='relu',kernel_initializer = \"he_normal\"))\n",
    "model.add(Dropout(0.2))\n",
    "model.add(Dense(6,activation='relu',kernel_initializer = \"he_normal\"))\n",
    "model.add(Dropout(0.2))\n",
    "model.add(Dense(4,activation='relu',kernel_initializer = \"he_normal\"))\n",
    "model.add(Dropout(0.2))\n",
    "model.add(Dense(3,activation='relu',kernel_initializer = \"he_normal\"))\n",
    "model.add(Dense(2,activation='relu',kernel_initializer = \"he_normal\"))\n",
    "model.add(Dense(1,activation='sigmoid'))"
   ]
  },
  {
   "cell_type": "code",
   "execution_count": 11,
   "id": "25832ab4",
   "metadata": {},
   "outputs": [],
   "source": [
    "model.compile(optimizer=\"Adam\",loss=\"binary_crossentropy\",metrics=[\"accuracy\"])"
   ]
  },
  {
   "cell_type": "code",
   "execution_count": 12,
   "id": "d53fe4d5",
   "metadata": {},
   "outputs": [
    {
     "name": "stdout",
     "output_type": "stream",
     "text": [
      "Epoch 1/100\n",
      "3/3 [==============================] - 2s 109ms/step - loss: 0.6953 - accuracy: 0.4722 - val_loss: 0.6935 - val_accuracy: 0.5000\n",
      "Epoch 2/100\n",
      "3/3 [==============================] - 0s 17ms/step - loss: 0.6930 - accuracy: 0.5139 - val_loss: 0.6936 - val_accuracy: 0.5000\n",
      "Epoch 3/100\n",
      "3/3 [==============================] - 0s 17ms/step - loss: 0.6941 - accuracy: 0.5139 - val_loss: 0.6938 - val_accuracy: 0.5000\n",
      "Epoch 4/100\n",
      "3/3 [==============================] - 0s 18ms/step - loss: 0.6918 - accuracy: 0.5417 - val_loss: 0.6944 - val_accuracy: 0.5000\n",
      "Epoch 5/100\n",
      "3/3 [==============================] - 0s 17ms/step - loss: 0.6934 - accuracy: 0.5000 - val_loss: 0.6949 - val_accuracy: 0.5000\n",
      "Epoch 6/100\n",
      "3/3 [==============================] - 0s 18ms/step - loss: 0.6905 - accuracy: 0.6250 - val_loss: 0.6955 - val_accuracy: 0.5000\n",
      "Epoch 7/100\n",
      "3/3 [==============================] - 0s 21ms/step - loss: 0.6925 - accuracy: 0.5556 - val_loss: 0.6959 - val_accuracy: 0.5000\n",
      "Epoch 8/100\n",
      "3/3 [==============================] - 0s 17ms/step - loss: 0.6929 - accuracy: 0.5278 - val_loss: 0.6963 - val_accuracy: 0.5000\n",
      "Epoch 9/100\n",
      "3/3 [==============================] - 0s 19ms/step - loss: 0.6947 - accuracy: 0.5278 - val_loss: 0.6967 - val_accuracy: 0.5000\n",
      "Epoch 10/100\n",
      "3/3 [==============================] - 0s 19ms/step - loss: 0.6890 - accuracy: 0.5278 - val_loss: 0.6970 - val_accuracy: 0.5000\n",
      "Epoch 11/100\n",
      "3/3 [==============================] - 0s 16ms/step - loss: 0.6935 - accuracy: 0.5278 - val_loss: 0.6973 - val_accuracy: 0.5000\n",
      "Epoch 12/100\n",
      "3/3 [==============================] - 0s 18ms/step - loss: 0.6901 - accuracy: 0.5694 - val_loss: 0.6973 - val_accuracy: 0.5000\n",
      "Epoch 13/100\n",
      "3/3 [==============================] - 0s 20ms/step - loss: 0.6896 - accuracy: 0.5278 - val_loss: 0.6977 - val_accuracy: 0.5000\n",
      "Epoch 14/100\n",
      "3/3 [==============================] - 0s 18ms/step - loss: 0.6972 - accuracy: 0.5139 - val_loss: 0.6979 - val_accuracy: 0.5000\n",
      "Epoch 15/100\n",
      "3/3 [==============================] - 0s 20ms/step - loss: 0.6876 - accuracy: 0.5417 - val_loss: 0.6982 - val_accuracy: 0.5000\n",
      "Epoch 16/100\n",
      "3/3 [==============================] - 0s 18ms/step - loss: 0.6982 - accuracy: 0.4861 - val_loss: 0.6983 - val_accuracy: 0.5000\n",
      "Epoch 17/100\n",
      "3/3 [==============================] - 0s 17ms/step - loss: 0.6919 - accuracy: 0.5139 - val_loss: 0.6982 - val_accuracy: 0.5000\n",
      "Epoch 18/100\n",
      "3/3 [==============================] - 0s 17ms/step - loss: 0.6860 - accuracy: 0.5556 - val_loss: 0.6981 - val_accuracy: 0.5000\n",
      "Epoch 19/100\n",
      "3/3 [==============================] - 0s 18ms/step - loss: 0.6872 - accuracy: 0.5278 - val_loss: 0.6981 - val_accuracy: 0.5000\n",
      "Epoch 20/100\n",
      "3/3 [==============================] - 0s 17ms/step - loss: 0.6916 - accuracy: 0.5417 - val_loss: 0.6980 - val_accuracy: 0.5000\n",
      "Epoch 21/100\n",
      "3/3 [==============================] - 0s 18ms/step - loss: 0.6890 - accuracy: 0.5278 - val_loss: 0.6980 - val_accuracy: 0.5000\n",
      "Epoch 22/100\n",
      "3/3 [==============================] - 0s 18ms/step - loss: 0.6968 - accuracy: 0.5278 - val_loss: 0.6980 - val_accuracy: 0.5000\n",
      "Epoch 23/100\n",
      "3/3 [==============================] - 0s 18ms/step - loss: 0.6907 - accuracy: 0.5278 - val_loss: 0.6978 - val_accuracy: 0.5000\n",
      "Epoch 24/100\n",
      "3/3 [==============================] - 0s 20ms/step - loss: 0.6749 - accuracy: 0.5278 - val_loss: 0.6977 - val_accuracy: 0.5000\n",
      "Epoch 25/100\n",
      "3/3 [==============================] - 0s 18ms/step - loss: 0.6965 - accuracy: 0.5278 - val_loss: 0.6976 - val_accuracy: 0.5000\n",
      "Epoch 26/100\n",
      "3/3 [==============================] - 0s 20ms/step - loss: 0.6944 - accuracy: 0.5417 - val_loss: 0.6972 - val_accuracy: 0.5000\n",
      "Epoch 27/100\n",
      "3/3 [==============================] - 0s 17ms/step - loss: 0.7022 - accuracy: 0.5139 - val_loss: 0.6966 - val_accuracy: 0.5000\n",
      "Epoch 28/100\n",
      "3/3 [==============================] - 0s 16ms/step - loss: 0.6861 - accuracy: 0.5000 - val_loss: 0.6960 - val_accuracy: 0.5000\n",
      "Epoch 29/100\n",
      "3/3 [==============================] - 0s 21ms/step - loss: 0.6795 - accuracy: 0.5278 - val_loss: 0.6958 - val_accuracy: 0.5000\n",
      "Epoch 30/100\n",
      "3/3 [==============================] - 0s 17ms/step - loss: 0.6890 - accuracy: 0.5000 - val_loss: 0.6957 - val_accuracy: 0.5000\n",
      "Epoch 31/100\n",
      "3/3 [==============================] - 0s 19ms/step - loss: 0.6922 - accuracy: 0.5417 - val_loss: 0.6955 - val_accuracy: 0.5000\n",
      "Epoch 32/100\n",
      "3/3 [==============================] - 0s 21ms/step - loss: 0.6883 - accuracy: 0.5139 - val_loss: 0.6954 - val_accuracy: 0.5000\n",
      "Epoch 33/100\n",
      "3/3 [==============================] - 0s 17ms/step - loss: 0.6874 - accuracy: 0.5278 - val_loss: 0.6953 - val_accuracy: 0.5000\n",
      "Epoch 34/100\n",
      "3/3 [==============================] - 0s 17ms/step - loss: 0.6881 - accuracy: 0.5139 - val_loss: 0.6952 - val_accuracy: 0.5000\n",
      "Epoch 35/100\n",
      "3/3 [==============================] - 0s 18ms/step - loss: 0.6841 - accuracy: 0.5278 - val_loss: 0.6950 - val_accuracy: 0.5000\n",
      "Epoch 36/100\n",
      "3/3 [==============================] - 0s 22ms/step - loss: 0.6885 - accuracy: 0.5278 - val_loss: 0.6947 - val_accuracy: 0.5000\n",
      "Epoch 37/100\n",
      "3/3 [==============================] - 0s 18ms/step - loss: 0.6789 - accuracy: 0.5139 - val_loss: 0.6945 - val_accuracy: 0.5000\n",
      "Epoch 38/100\n",
      "3/3 [==============================] - 0s 17ms/step - loss: 0.6949 - accuracy: 0.5139 - val_loss: 0.6942 - val_accuracy: 0.5000\n",
      "Epoch 39/100\n",
      "3/3 [==============================] - 0s 19ms/step - loss: 0.6823 - accuracy: 0.5278 - val_loss: 0.6939 - val_accuracy: 0.5000\n",
      "Epoch 40/100\n",
      "3/3 [==============================] - 0s 17ms/step - loss: 0.6739 - accuracy: 0.5278 - val_loss: 0.6936 - val_accuracy: 0.5000\n",
      "Epoch 41/100\n",
      "3/3 [==============================] - 0s 19ms/step - loss: 0.6804 - accuracy: 0.5139 - val_loss: 0.6934 - val_accuracy: 0.5000\n",
      "Epoch 42/100\n",
      "3/3 [==============================] - 0s 21ms/step - loss: 0.6824 - accuracy: 0.5139 - val_loss: 0.6931 - val_accuracy: 0.5000\n",
      "Epoch 43/100\n",
      "3/3 [==============================] - 0s 16ms/step - loss: 0.6782 - accuracy: 0.5278 - val_loss: 0.6929 - val_accuracy: 0.5000\n",
      "Epoch 44/100\n",
      "3/3 [==============================] - 0s 20ms/step - loss: 0.6782 - accuracy: 0.5278 - val_loss: 0.6926 - val_accuracy: 0.5000\n",
      "Epoch 45/100\n",
      "3/3 [==============================] - 0s 17ms/step - loss: 0.6889 - accuracy: 0.5278 - val_loss: 0.6923 - val_accuracy: 0.5000\n",
      "Epoch 46/100\n",
      "3/3 [==============================] - 0s 20ms/step - loss: 0.6662 - accuracy: 0.5139 - val_loss: 0.6921 - val_accuracy: 0.5000\n",
      "Epoch 47/100\n",
      "3/3 [==============================] - 0s 19ms/step - loss: 0.6783 - accuracy: 0.5139 - val_loss: 0.6918 - val_accuracy: 0.5000\n",
      "Epoch 48/100\n",
      "3/3 [==============================] - 0s 17ms/step - loss: 0.6894 - accuracy: 0.5278 - val_loss: 0.6915 - val_accuracy: 0.5000\n",
      "Epoch 49/100\n",
      "3/3 [==============================] - 0s 18ms/step - loss: 0.6586 - accuracy: 0.5139 - val_loss: 0.6911 - val_accuracy: 0.5000\n",
      "Epoch 50/100\n",
      "3/3 [==============================] - 0s 17ms/step - loss: 0.6884 - accuracy: 0.5278 - val_loss: 0.6906 - val_accuracy: 0.5000\n",
      "Epoch 51/100\n",
      "3/3 [==============================] - 0s 19ms/step - loss: 0.6887 - accuracy: 0.5278 - val_loss: 0.6901 - val_accuracy: 0.5000\n",
      "Epoch 52/100\n",
      "3/3 [==============================] - 0s 18ms/step - loss: 0.6716 - accuracy: 0.5139 - val_loss: 0.6896 - val_accuracy: 0.5000\n",
      "Epoch 53/100\n",
      "3/3 [==============================] - 0s 19ms/step - loss: 0.6935 - accuracy: 0.5278 - val_loss: 0.6892 - val_accuracy: 0.5000\n",
      "Epoch 54/100\n",
      "3/3 [==============================] - 0s 18ms/step - loss: 0.6824 - accuracy: 0.5278 - val_loss: 0.6888 - val_accuracy: 0.5000\n",
      "Epoch 55/100\n",
      "3/3 [==============================] - 0s 18ms/step - loss: 0.6671 - accuracy: 0.5278 - val_loss: 0.6883 - val_accuracy: 0.5000\n",
      "Epoch 56/100\n",
      "3/3 [==============================] - 0s 18ms/step - loss: 0.6562 - accuracy: 0.5278 - val_loss: 0.6879 - val_accuracy: 0.5000\n",
      "Epoch 57/100\n",
      "3/3 [==============================] - 0s 18ms/step - loss: 0.6618 - accuracy: 0.5278 - val_loss: 0.6875 - val_accuracy: 0.5000\n",
      "Epoch 58/100\n",
      "3/3 [==============================] - 0s 19ms/step - loss: 0.7202 - accuracy: 0.5278 - val_loss: 0.6871 - val_accuracy: 0.5000\n",
      "Epoch 59/100\n",
      "3/3 [==============================] - 0s 17ms/step - loss: 0.6852 - accuracy: 0.5278 - val_loss: 0.6867 - val_accuracy: 0.5000\n",
      "Epoch 60/100\n",
      "3/3 [==============================] - 0s 21ms/step - loss: 0.6704 - accuracy: 0.5278 - val_loss: 0.6863 - val_accuracy: 0.5000\n",
      "Epoch 61/100\n",
      "3/3 [==============================] - 0s 17ms/step - loss: 0.6786 - accuracy: 0.5278 - val_loss: 0.6859 - val_accuracy: 0.5000\n",
      "Epoch 62/100\n",
      "3/3 [==============================] - 0s 16ms/step - loss: 0.6800 - accuracy: 0.5278 - val_loss: 0.6855 - val_accuracy: 0.5000\n",
      "Epoch 63/100\n",
      "3/3 [==============================] - 0s 17ms/step - loss: 0.6651 - accuracy: 0.5278 - val_loss: 0.6853 - val_accuracy: 0.5000\n",
      "Epoch 64/100\n",
      "3/3 [==============================] - 0s 17ms/step - loss: 0.6790 - accuracy: 0.5278 - val_loss: 0.6851 - val_accuracy: 0.5000\n",
      "Epoch 65/100\n",
      "3/3 [==============================] - 0s 17ms/step - loss: 0.6831 - accuracy: 0.5139 - val_loss: 0.6849 - val_accuracy: 0.5000\n",
      "Epoch 66/100\n",
      "3/3 [==============================] - 0s 18ms/step - loss: 0.6517 - accuracy: 0.5278 - val_loss: 0.6845 - val_accuracy: 0.5000\n",
      "Epoch 67/100\n",
      "3/3 [==============================] - 0s 17ms/step - loss: 0.6786 - accuracy: 0.5278 - val_loss: 0.6840 - val_accuracy: 0.5000\n",
      "Epoch 68/100\n",
      "3/3 [==============================] - 0s 17ms/step - loss: 0.6686 - accuracy: 0.5278 - val_loss: 0.6836 - val_accuracy: 0.5000\n",
      "Epoch 69/100\n",
      "3/3 [==============================] - 0s 18ms/step - loss: 0.6757 - accuracy: 0.5139 - val_loss: 0.6833 - val_accuracy: 0.5556\n",
      "Epoch 70/100\n",
      "3/3 [==============================] - 0s 18ms/step - loss: 0.6657 - accuracy: 0.6250 - val_loss: 0.6832 - val_accuracy: 0.5000\n",
      "Epoch 71/100\n",
      "3/3 [==============================] - 0s 16ms/step - loss: 0.6706 - accuracy: 0.5417 - val_loss: 0.6830 - val_accuracy: 0.5000\n",
      "Epoch 72/100\n",
      "3/3 [==============================] - 0s 18ms/step - loss: 0.6869 - accuracy: 0.5000 - val_loss: 0.6830 - val_accuracy: 0.5000\n",
      "Epoch 73/100\n",
      "3/3 [==============================] - 0s 17ms/step - loss: 0.6821 - accuracy: 0.4583 - val_loss: 0.6833 - val_accuracy: 0.5000\n",
      "Epoch 74/100\n",
      "3/3 [==============================] - 0s 17ms/step - loss: 0.6591 - accuracy: 0.5278 - val_loss: 0.6835 - val_accuracy: 0.5000\n",
      "Epoch 75/100\n",
      "3/3 [==============================] - 0s 18ms/step - loss: 0.6486 - accuracy: 0.6389 - val_loss: 0.6834 - val_accuracy: 0.5000\n",
      "Epoch 76/100\n",
      "3/3 [==============================] - 0s 16ms/step - loss: 0.6646 - accuracy: 0.5417 - val_loss: 0.6831 - val_accuracy: 0.5000\n",
      "Epoch 77/100\n",
      "3/3 [==============================] - 0s 17ms/step - loss: 0.6784 - accuracy: 0.5139 - val_loss: 0.6829 - val_accuracy: 0.5000\n",
      "Epoch 78/100\n",
      "3/3 [==============================] - 0s 17ms/step - loss: 0.6704 - accuracy: 0.4444 - val_loss: 0.6828 - val_accuracy: 0.5000\n",
      "Epoch 79/100\n",
      "3/3 [==============================] - 0s 17ms/step - loss: 0.6876 - accuracy: 0.4583 - val_loss: 0.6826 - val_accuracy: 0.5000\n",
      "Epoch 80/100\n",
      "3/3 [==============================] - 0s 17ms/step - loss: 0.6807 - accuracy: 0.5833 - val_loss: 0.6824 - val_accuracy: 0.5000\n",
      "Epoch 81/100\n",
      "3/3 [==============================] - 0s 16ms/step - loss: 0.6776 - accuracy: 0.5972 - val_loss: 0.6823 - val_accuracy: 0.5000\n",
      "Epoch 82/100\n",
      "3/3 [==============================] - 0s 17ms/step - loss: 0.6711 - accuracy: 0.5833 - val_loss: 0.6822 - val_accuracy: 0.5000\n",
      "Epoch 83/100\n",
      "3/3 [==============================] - 0s 18ms/step - loss: 0.6737 - accuracy: 0.5278 - val_loss: 0.6820 - val_accuracy: 0.5000\n",
      "Epoch 84/100\n",
      "3/3 [==============================] - 0s 16ms/step - loss: 0.6538 - accuracy: 0.6667 - val_loss: 0.6815 - val_accuracy: 0.5000\n",
      "Epoch 85/100\n",
      "3/3 [==============================] - 0s 17ms/step - loss: 0.6664 - accuracy: 0.5417 - val_loss: 0.6809 - val_accuracy: 0.5000\n",
      "Epoch 86/100\n",
      "3/3 [==============================] - 0s 17ms/step - loss: 0.6682 - accuracy: 0.5278 - val_loss: 0.6803 - val_accuracy: 0.5556\n",
      "Epoch 87/100\n",
      "3/3 [==============================] - 0s 18ms/step - loss: 0.6559 - accuracy: 0.5972 - val_loss: 0.6797 - val_accuracy: 0.5556\n",
      "Epoch 88/100\n",
      "3/3 [==============================] - 0s 17ms/step - loss: 0.7069 - accuracy: 0.5278 - val_loss: 0.6794 - val_accuracy: 0.5556\n",
      "Epoch 89/100\n",
      "3/3 [==============================] - 0s 16ms/step - loss: 0.6477 - accuracy: 0.5417 - val_loss: 0.6792 - val_accuracy: 0.5556\n",
      "Epoch 90/100\n",
      "3/3 [==============================] - 0s 17ms/step - loss: 0.6609 - accuracy: 0.5139 - val_loss: 0.6789 - val_accuracy: 0.5556\n",
      "Epoch 91/100\n",
      "3/3 [==============================] - 0s 17ms/step - loss: 0.6557 - accuracy: 0.5972 - val_loss: 0.6786 - val_accuracy: 0.5556\n",
      "Epoch 92/100\n",
      "3/3 [==============================] - 0s 16ms/step - loss: 0.6653 - accuracy: 0.6389 - val_loss: 0.6782 - val_accuracy: 0.5556\n",
      "Epoch 93/100\n",
      "3/3 [==============================] - 0s 17ms/step - loss: 0.6619 - accuracy: 0.6528 - val_loss: 0.6780 - val_accuracy: 0.5556\n",
      "Epoch 94/100\n",
      "3/3 [==============================] - 0s 17ms/step - loss: 0.6408 - accuracy: 0.6667 - val_loss: 0.6777 - val_accuracy: 0.5556\n",
      "Epoch 95/100\n",
      "3/3 [==============================] - 0s 16ms/step - loss: 0.6811 - accuracy: 0.5417 - val_loss: 0.6774 - val_accuracy: 0.5556\n",
      "Epoch 96/100\n",
      "3/3 [==============================] - 0s 16ms/step - loss: 0.6664 - accuracy: 0.5417 - val_loss: 0.6771 - val_accuracy: 0.5556\n",
      "Epoch 97/100\n",
      "3/3 [==============================] - 0s 17ms/step - loss: 0.6672 - accuracy: 0.5972 - val_loss: 0.6768 - val_accuracy: 0.5556\n",
      "Epoch 98/100\n",
      "3/3 [==============================] - 0s 18ms/step - loss: 0.6580 - accuracy: 0.5556 - val_loss: 0.6765 - val_accuracy: 0.5556\n",
      "Epoch 99/100\n",
      "3/3 [==============================] - 0s 16ms/step - loss: 0.6539 - accuracy: 0.5833 - val_loss: 0.6764 - val_accuracy: 0.5556\n",
      "Epoch 100/100\n",
      "3/3 [==============================] - 0s 17ms/step - loss: 0.6555 - accuracy: 0.6389 - val_loss: 0.6762 - val_accuracy: 0.6111\n"
     ]
    }
   ],
   "source": [
    "save = model.fit(x_train, y_train, epochs = 100, validation_split= 0.2)"
   ]
  },
  {
   "cell_type": "code",
   "execution_count": 13,
   "id": "d009f3e1",
   "metadata": {},
   "outputs": [
    {
     "data": {
      "image/png": "[encoded data removed]",
      "text/plain": [
       "<Figure size 864x504 with 1 Axes>"
      ]
     },
     "metadata": {
      "needs_background": "light"
     },
     "output_type": "display_data"
    }
   ],
   "source": [
    "plt.figure(figsize=(12, 7))\n",
    "plt.plot(save.history['loss'])\n",
    "plt.plot(save.history['val_loss'])\n",
    "plt.title(\"(Loss VS Val_loss Score)\")\n",
    "plt.xlabel(\"Epochs\")\n",
    "plt.ylabel(\"Loss\")\n",
    "plt.show()"
   ]
  },
  {
   "cell_type": "code",
   "execution_count": 14,
   "id": "9fd3a604",
   "metadata": {},
   "outputs": [
    {
     "name": "stdout",
     "output_type": "stream",
     "text": [
      "1/1 [==============================] - 0s 111ms/step\n"
     ]
    }
   ],
   "source": [
    "y_pred=model.predict(x_test)"
   ]
  },
  {
   "cell_type": "code",
   "execution_count": 15,
   "id": "d862f5d0",
   "metadata": {},
   "outputs": [],
   "source": [
    "y_capf=np.where(y_pred>0.5,1,0)"
   ]
  },
  {
   "cell_type": "code",
   "execution_count": 16,
   "id": "ba0c0ed2",
   "metadata": {},
   "outputs": [
    {
     "data": {
      "text/plain": [
       "0.8"
      ]
     },
     "execution_count": 16,
     "metadata": {},
     "output_type": "execute_result"
    }
   ],
   "source": [
    "from sklearn.metrics import accuracy_score\n",
    "accuracy_score(y_test,y_capf)"
   ]
  },
  {
   "cell_type": "code",
   "execution_count": 17,
   "id": "deb93beb",
   "metadata": {},
   "outputs": [
    {
     "name": "stdout",
     "output_type": "stream",
     "text": [
      "3888/3888 [==============================] - 5s 1ms/step\n"
     ]
    },
    {
     "name": "stderr",
     "output_type": "stream",
     "text": [
      "C:\\Users\\Dell\\anaconda3\\lib\\site-packages\\mlxtend\\plotting\\decision_regions.py:315: UserWarning: No contour levels were found within the data range.\n",
      "  ax.contour(xx, yy, Z, cset.levels, **contour_kwargs)\n"
     ]
    },
    {
     "data": {
      "text/plain": [
       "<AxesSubplot:>"
      ]
     },
     "execution_count": 17,
     "metadata": {},
     "output_type": "execute_result"
    },
    {
     "data": {
      "image/png": "[encoded data removed]",
      "text/plain": [
       "<Figure size 432x288 with 1 Axes>"
      ]
     },
     "metadata": {
      "needs_background": "light"
     },
     "output_type": "display_data"
    }
   ],
   "source": [
    "from mlxtend.plotting import plot_decision_regions\n",
    "\n",
    "plot_decision_regions(df[[0,1]].values,df[2].values.astype(int),clf=model)"
   ]
  }
 ],
 "metadata": {
  "kernelspec": {
   "display_name": "Python 3 (ipykernel)",
   "language": "python",
   "name": "python3"
  },
  "language_info": {
   "codemirror_mode": {
    "name": "ipython",
    "version": 3
   },
   "file_extension": ".py",
   "mimetype": "text/x-python",
   "name": "python",
   "nbconvert_exporter": "python",
   "pygments_lexer": "ipython3",
   "version": "3.9.12"
  }
 },
 "nbformat": 4,
 "nbformat_minor": 5
}
